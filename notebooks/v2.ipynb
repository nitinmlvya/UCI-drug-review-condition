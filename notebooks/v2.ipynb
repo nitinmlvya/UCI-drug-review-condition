{
 "cells": [
  {
   "cell_type": "markdown",
   "id": "67724826-6d64-43b9-ac46-1cd9b0bb84ab",
   "metadata": {},
   "source": [
    "### Prerequisite:\n",
    "\n",
    "#### Python version <= 3.7\n",
    "\n",
    "#### Install below python packages"
   ]
  },
  {
   "cell_type": "code",
   "execution_count": null,
   "id": "ab95036a-afa4-44fa-bd16-20794a230d8a",
   "metadata": {},
   "outputs": [],
   "source": [
    "# !pip install contractions\n",
    "# !pip install numpy\n",
    "# !pip install pandas\n",
    "# !pip install scikit-learn\n",
    "# !pip install -U spacy\n",
    "# !python -m spacy download en"
   ]
  },
  {
   "cell_type": "markdown",
   "id": "2c183f42-f4aa-4369-86ee-eb9714e893f7",
   "metadata": {},
   "source": [
    "#### Download raw data and unzip it."
   ]
  },
  {
   "cell_type": "code",
   "execution_count": 2,
   "id": "07f24a7b-e4a4-4d48-8645-9b6cb27bc6e3",
   "metadata": {},
   "outputs": [],
   "source": [
    "# !wget \"https://archive.ics.uci.edu/ml/machine-learning-databases/00462/drugsCom_raw.zip\""
   ]
  },
  {
   "cell_type": "code",
   "execution_count": 3,
   "id": "fa0ed269-5cf3-4fe8-8c16-eedc1f9710ba",
   "metadata": {},
   "outputs": [],
   "source": [
    "# !unzip \"drugsCom_raw.zip\""
   ]
  },
  {
   "cell_type": "markdown",
   "id": "2f81de40-2ba2-4d95-a3a3-42ae6fa3ac1a",
   "metadata": {},
   "source": [
    "#### Read the source data"
   ]
  },
  {
   "cell_type": "code",
   "execution_count": 1,
   "id": "b63a8567-ecb4-4836-b680-1f6a4626d2a8",
   "metadata": {},
   "outputs": [
    {
     "data": {
      "text/html": [
       "<div>\n",
       "<style scoped>\n",
       "    .dataframe tbody tr th:only-of-type {\n",
       "        vertical-align: middle;\n",
       "    }\n",
       "\n",
       "    .dataframe tbody tr th {\n",
       "        vertical-align: top;\n",
       "    }\n",
       "\n",
       "    .dataframe thead th {\n",
       "        text-align: right;\n",
       "    }\n",
       "</style>\n",
       "<table border=\"1\" class=\"dataframe\">\n",
       "  <thead>\n",
       "    <tr style=\"text-align: right;\">\n",
       "      <th></th>\n",
       "      <th>Unnamed: 0</th>\n",
       "      <th>drugName</th>\n",
       "      <th>condition</th>\n",
       "      <th>review</th>\n",
       "      <th>rating</th>\n",
       "      <th>date</th>\n",
       "      <th>usefulCount</th>\n",
       "    </tr>\n",
       "  </thead>\n",
       "  <tbody>\n",
       "    <tr>\n",
       "      <th>0</th>\n",
       "      <td>206461</td>\n",
       "      <td>Valsartan</td>\n",
       "      <td>Left Ventricular Dysfunction</td>\n",
       "      <td>\"It has no side effect, I take it in combinati...</td>\n",
       "      <td>9.0</td>\n",
       "      <td>May 20, 2012</td>\n",
       "      <td>27</td>\n",
       "    </tr>\n",
       "    <tr>\n",
       "      <th>1</th>\n",
       "      <td>95260</td>\n",
       "      <td>Guanfacine</td>\n",
       "      <td>ADHD</td>\n",
       "      <td>\"My son is halfway through his fourth week of ...</td>\n",
       "      <td>8.0</td>\n",
       "      <td>April 27, 2010</td>\n",
       "      <td>192</td>\n",
       "    </tr>\n",
       "    <tr>\n",
       "      <th>2</th>\n",
       "      <td>92703</td>\n",
       "      <td>Lybrel</td>\n",
       "      <td>Birth Control</td>\n",
       "      <td>\"I used to take another oral contraceptive, wh...</td>\n",
       "      <td>5.0</td>\n",
       "      <td>December 14, 2009</td>\n",
       "      <td>17</td>\n",
       "    </tr>\n",
       "    <tr>\n",
       "      <th>3</th>\n",
       "      <td>138000</td>\n",
       "      <td>Ortho Evra</td>\n",
       "      <td>Birth Control</td>\n",
       "      <td>\"This is my first time using any form of birth...</td>\n",
       "      <td>8.0</td>\n",
       "      <td>November 3, 2015</td>\n",
       "      <td>10</td>\n",
       "    </tr>\n",
       "    <tr>\n",
       "      <th>4</th>\n",
       "      <td>35696</td>\n",
       "      <td>Buprenorphine / naloxone</td>\n",
       "      <td>Opiate Dependence</td>\n",
       "      <td>\"Suboxone has completely turned my life around...</td>\n",
       "      <td>9.0</td>\n",
       "      <td>November 27, 2016</td>\n",
       "      <td>37</td>\n",
       "    </tr>\n",
       "  </tbody>\n",
       "</table>\n",
       "</div>"
      ],
      "text/plain": [
       "   Unnamed: 0                  drugName                     condition  \\\n",
       "0      206461                 Valsartan  Left Ventricular Dysfunction   \n",
       "1       95260                Guanfacine                          ADHD   \n",
       "2       92703                    Lybrel                 Birth Control   \n",
       "3      138000                Ortho Evra                 Birth Control   \n",
       "4       35696  Buprenorphine / naloxone             Opiate Dependence   \n",
       "\n",
       "                                              review  rating  \\\n",
       "0  \"It has no side effect, I take it in combinati...     9.0   \n",
       "1  \"My son is halfway through his fourth week of ...     8.0   \n",
       "2  \"I used to take another oral contraceptive, wh...     5.0   \n",
       "3  \"This is my first time using any form of birth...     8.0   \n",
       "4  \"Suboxone has completely turned my life around...     9.0   \n",
       "\n",
       "                date  usefulCount  \n",
       "0       May 20, 2012           27  \n",
       "1     April 27, 2010          192  \n",
       "2  December 14, 2009           17  \n",
       "3   November 3, 2015           10  \n",
       "4  November 27, 2016           37  "
      ]
     },
     "execution_count": 1,
     "metadata": {},
     "output_type": "execute_result"
    }
   ],
   "source": [
    "import numpy as np\n",
    "import pandas as pd\n",
    "\n",
    "df = pd.read_table('drugsComTrain_raw.tsv')\n",
    "df.head()"
   ]
  },
  {
   "cell_type": "markdown",
   "id": "75566281-a17b-4e21-988f-90b5f1420b41",
   "metadata": {},
   "source": [
    "#### Top 10 conditions.\n",
    "- Get top 10 conditions based on its frequency.\n",
    "- Mark all the remaining conditions to \"OTHERS\" category/condition."
   ]
  },
  {
   "cell_type": "code",
   "execution_count": 2,
   "id": "fe7a2904-3f9a-44aa-9102-21de0ac90d64",
   "metadata": {},
   "outputs": [
    {
     "data": {
      "text/plain": [
       "<AxesSubplot:>"
      ]
     },
     "execution_count": 2,
     "metadata": {},
     "output_type": "execute_result"
    },
    {
     "data": {
      "image/png": "[encoded data removed]",
      "text/plain": [
       "<Figure size 432x288 with 1 Axes>"
      ]
     },
     "metadata": {
      "needs_background": "light"
     },
     "output_type": "display_data"
    }
   ],
   "source": [
    "top_10_conditions = df['condition'].value_counts().head(10).index.tolist()\n",
    "df['condition'] = df['condition'].apply(lambda x: x if x in top_10_conditions else 'OTHERS')\n",
    "df['condition'].value_counts().plot(kind='bar')"
   ]
  },
  {
   "cell_type": "markdown",
   "id": "51ffd38c-0153-47f4-bcf2-722728c6f0b8",
   "metadata": {},
   "source": [
    "Observations:\n",
    "- As OTHERS condition is tagged with all the minority conditions and it rises its frequency. Will handle it later "
   ]
  },
  {
   "cell_type": "code",
   "execution_count": 8,
   "id": "26f719f6-5064-40ff-8220-afcc08e4d33a",
   "metadata": {},
   "outputs": [],
   "source": [
    "import re\n",
    "import html\n",
    "import contractions\n",
    "\n",
    "def remove_chars(text):\n",
    "    \"\"\"\n",
    "        Remove all the unneccessary special characaters.\n",
    "    \"\"\"\n",
    "    text = html.unescape(text)\n",
    "    text = contractions.fix(text)\n",
    "    remove_chars_1 = r'[^A-Za-z0-9 ]'\n",
    "    remove_chars_2 = r'^\"'\n",
    "    remove_chars_3 = r'\"$'\n",
    "    more_than_two_spaces = r'[\\s\\s]+'\n",
    "    text = re.sub(remove_chars_1, ' ', text)\n",
    "    text = re.sub(remove_chars_2, ' ', text)\n",
    "    text = re.sub(remove_chars_3, ' ', text)\n",
    "    text = re.sub(more_than_two_spaces, ' ', text)\n",
    "    return text.strip()\n",
    "\n",
    "\n",
    "df['cleaned_text'] = df['review'].apply(remove_chars)"
   ]
  },
  {
   "cell_type": "code",
   "execution_count": null,
   "id": "31dc7c97-a2b9-45a6-8caa-61ac9c9b8717",
   "metadata": {},
   "outputs": [],
   "source": []
  },
  {
   "cell_type": "code",
   "execution_count": null,
   "id": "f1ee8506-4377-41d1-a7e5-3f70d1bc12b0",
   "metadata": {},
   "outputs": [],
   "source": []
  },
  {
   "cell_type": "code",
   "execution_count": null,
   "id": "85c3914a-2adf-4f72-86e1-db547c25b38a",
   "metadata": {},
   "outputs": [],
   "source": [
    "spacy_model(\"\")"
   ]
  },
  {
   "cell_type": "code",
   "execution_count": 38,
   "id": "f770b1ac-69ac-4116-93a9-5d8a4d1de132",
   "metadata": {},
   "outputs": [],
   "source": [
    "import spacy\n",
    "\n",
    "# Load the spacy model and disable unused features\n",
    "spacy_model = spacy.load('en_core_web_sm')"
   ]
  },
  {
   "cell_type": "code",
   "execution_count": 64,
   "id": "e648f2c3-d5d9-4717-9513-2b4b6dbf64b4",
   "metadata": {},
   "outputs": [
    {
     "data": {
      "text/plain": [
       "17"
      ]
     },
     "execution_count": 64,
     "metadata": {},
     "output_type": "execute_result"
    }
   ],
   "source": [
    "w = spacy_model(\"It has no side effect I take it in combination of Bystolic 5 Mg and Fish Oil\")\n",
    "len(w)"
   ]
  },
  {
   "cell_type": "code",
   "execution_count": 63,
   "id": "b1bec900-6d85-4ea3-9e10-95589a4b62de",
   "metadata": {},
   "outputs": [
    {
     "name": "stdout",
     "output_type": "stream",
     "text": [
      "It True\n",
      "has True\n",
      "no True\n",
      "side True\n",
      "effect False\n",
      "I True\n",
      "take True\n",
      "it True\n",
      "in True\n",
      "combination False\n",
      "of True\n",
      "Bystolic False\n",
      "5 False\n",
      "Mg False\n",
      "and True\n",
      "Fish False\n",
      "Oil False\n"
     ]
    }
   ],
   "source": [
    "for token in spacy_model(\"It has no side effect I take it in combination of Bystolic 5 Mg and Fish Oil\"):\n",
    "    print(token, token.is_stop)"
   ]
  },
  {
   "cell_type": "code",
   "execution_count": 77,
   "id": "56fef3fe-13a9-482a-a677-878e9728d146",
   "metadata": {},
   "outputs": [
    {
     "data": {
      "text/plain": [
       "0    {'norm_text': 'effect combination bystolic 5 m...\n",
       "1    {'norm_text': 'son halfway fourth week intuniv...\n",
       "2    {'norm_text': 'oral contraceptive 21 pill cycl...\n",
       "3    {'norm_text': 'time form birth control glad go...\n",
       "4    {'norm_text': 'suboxone completely turn life f...\n",
       "Name: cleaned_text, dtype: object"
      ]
     },
     "execution_count": 77,
     "metadata": {},
     "output_type": "execute_result"
    }
   ],
   "source": [
    "def spacy_nouns_features(text):\n",
    "    \"\"\"\n",
    "        Generate more features using the text.\n",
    "    \"\"\"\n",
    "    text = spacy_model(text)\n",
    "    token_features = {'norm_text': [], 'norm_text_counts': 0, 'noun_words': [], 'noun_counts': 0, 'stop_word_counts': 0, 'digits_counts': 0, 'lower_counts': 0, 'upper_counts': 0, 'title_counts': 0, 'total_words': 0, 'noun_phrase_counts': 0, 'noun_phrases': []}\n",
    "    for token in text:\n",
    "        if token.pos_ in ['NOUN', 'PROPN']:\n",
    "            token_features['noun_counts'] += 1\n",
    "            token_features['noun_words'].append(str(token))\n",
    "        if token.is_digit:\n",
    "            token_features['digits_counts'] += 1\n",
    "        if token.is_lower and len(token) > 1:\n",
    "            token_features['lower_counts'] += 1\n",
    "        if token.is_upper and len(token) > 1:\n",
    "            token_features['upper_counts'] += 1\n",
    "        if token.is_title and len(token) > 1:\n",
    "            token_features['title_counts'] += 1\n",
    "        if token.is_stop:\n",
    "            token_features['stop_word_counts'] += 1\n",
    "        else:\n",
    "            token_features['norm_text'].append(str(token.lemma_))\n",
    "\n",
    "    token_features['total_words'] = len(text)\n",
    "    token_features['noun_phrase_counts'] = len(list(text.noun_chunks))\n",
    "    token_features['noun_phrases'] = list(text.noun_chunks)\n",
    "    token_features['norm_text_counts'] = len(token_features['norm_text'])\n",
    "    token_features['norm_text'] = ' '.join(token_features['norm_text']).lower().strip()\n",
    "        \n",
    "    return token_features\n",
    "\n",
    "\n",
    "df_spacy_vectors_nouns = df['cleaned_text'].apply(spacy_nouns_features)\n",
    "# df_spacy_vectors_nouns = np.row_stack(df_spacy_vectors)\n",
    "# df_spacy_vectors_nouns = pd.DataFrame(df_spacy_vectors)\n",
    "# df_spacy_vectors_nouns.to_csv('df_spacy_vectors_nouns.csv', index=False) # saved\n",
    "df_spacy_vectors_nouns.head()\n"
   ]
  },
  {
   "cell_type": "code",
   "execution_count": 98,
   "id": "f807da95-205c-41f1-b956-032fafc3f80a",
   "metadata": {},
   "outputs": [],
   "source": [
    "for x in df_spacy_vectors_nouns:\n",
    "    x['noun_phrases'] = [str(x) for x in x['noun_phrases']]\n",
    "    x['norm_text'] = ' '.join([str(x) for x in x['norm_text'].split()])"
   ]
  },
  {
   "cell_type": "code",
   "execution_count": 100,
   "id": "37808e2d-f067-42f6-a34d-151a9a5bd049",
   "metadata": {},
   "outputs": [
    {
     "data": {
      "text/plain": [
       "161297"
      ]
     },
     "execution_count": 100,
     "metadata": {},
     "output_type": "execute_result"
    }
   ],
   "source": [
    "df_spacy_vectors_nouns_pkl_obj = [x for x in df_spacy_vectors_nouns]\n",
    "len(df_spacy_vectors_nouns_pkl_obj)"
   ]
  },
  {
   "cell_type": "code",
   "execution_count": null,
   "id": "d9527b28-a15d-47a1-9e1d-f135b881ed5d",
   "metadata": {},
   "outputs": [],
   "source": []
  },
  {
   "cell_type": "code",
   "execution_count": null,
   "id": "aac9f668-91e0-4984-817b-a194c18aec8c",
   "metadata": {},
   "outputs": [],
   "source": []
  },
  {
   "cell_type": "code",
   "execution_count": 101,
   "id": "9a61d6d8-b72a-45ed-8e65-34b159dd30ee",
   "metadata": {},
   "outputs": [],
   "source": [
    "# import pickle\n",
    "\n",
    "# file_to_store = open(\"df_spacy_vectors_nouns.pkl\", \"wb\")\n",
    "# pickle.dump(df_spacy_vectors_nouns_pkl_obj, file_to_store)\n",
    "# file_to_store.close()"
   ]
  },
  {
   "cell_type": "code",
   "execution_count": 102,
   "id": "54cae55d-a18c-46d9-bb26-0310848d3491",
   "metadata": {},
   "outputs": [],
   "source": [
    "# len(set([y for x in df_spacy_vectors_nouns for y in x[8]]))"
   ]
  },
  {
   "cell_type": "code",
   "execution_count": 11,
   "id": "187b4f73-af01-4e22-96d8-e63339dd3ca4",
   "metadata": {},
   "outputs": [
    {
     "data": {
      "text/html": [
       "<div>\n",
       "<style scoped>\n",
       "    .dataframe tbody tr th:only-of-type {\n",
       "        vertical-align: middle;\n",
       "    }\n",
       "\n",
       "    .dataframe tbody tr th {\n",
       "        vertical-align: top;\n",
       "    }\n",
       "\n",
       "    .dataframe thead th {\n",
       "        text-align: right;\n",
       "    }\n",
       "</style>\n",
       "<table border=\"1\" class=\"dataframe\">\n",
       "  <thead>\n",
       "    <tr style=\"text-align: right;\">\n",
       "      <th></th>\n",
       "      <th>0</th>\n",
       "      <th>1</th>\n",
       "      <th>2</th>\n",
       "      <th>3</th>\n",
       "      <th>4</th>\n",
       "      <th>5</th>\n",
       "      <th>6</th>\n",
       "    </tr>\n",
       "  </thead>\n",
       "  <tbody>\n",
       "    <tr>\n",
       "      <th>0</th>\n",
       "      <td>it have no side effect i take it in combinatio...</td>\n",
       "      <td>5</td>\n",
       "      <td>1</td>\n",
       "      <td>10</td>\n",
       "      <td>1</td>\n",
       "      <td>6</td>\n",
       "      <td>17</td>\n",
       "    </tr>\n",
       "    <tr>\n",
       "      <th>1</th>\n",
       "      <td>my son be halfway through his fourth week of i...</td>\n",
       "      <td>24</td>\n",
       "      <td>1</td>\n",
       "      <td>126</td>\n",
       "      <td>2</td>\n",
       "      <td>13</td>\n",
       "      <td>141</td>\n",
       "    </tr>\n",
       "    <tr>\n",
       "      <th>2</th>\n",
       "      <td>i use to take another oral contraceptive which...</td>\n",
       "      <td>35</td>\n",
       "      <td>2</td>\n",
       "      <td>118</td>\n",
       "      <td>6</td>\n",
       "      <td>15</td>\n",
       "      <td>136</td>\n",
       "    </tr>\n",
       "    <tr>\n",
       "      <th>3</th>\n",
       "      <td>this be my first time use any form of birth co...</td>\n",
       "      <td>20</td>\n",
       "      <td>5</td>\n",
       "      <td>77</td>\n",
       "      <td>5</td>\n",
       "      <td>10</td>\n",
       "      <td>92</td>\n",
       "    </tr>\n",
       "    <tr>\n",
       "      <th>4</th>\n",
       "      <td>suboxone have completely turn my life around i...</td>\n",
       "      <td>27</td>\n",
       "      <td>0</td>\n",
       "      <td>112</td>\n",
       "      <td>9</td>\n",
       "      <td>17</td>\n",
       "      <td>129</td>\n",
       "    </tr>\n",
       "  </tbody>\n",
       "</table>\n",
       "</div>"
      ],
      "text/plain": [
       "                                                   0   1  2    3  4   5    6\n",
       "0  it have no side effect i take it in combinatio...   5  1   10  1   6   17\n",
       "1  my son be halfway through his fourth week of i...  24  1  126  2  13  141\n",
       "2  i use to take another oral contraceptive which...  35  2  118  6  15  136\n",
       "3  this be my first time use any form of birth co...  20  5   77  5  10   92\n",
       "4  suboxone have completely turn my life around i...  27  0  112  9  17  129"
      ]
     },
     "execution_count": 11,
     "metadata": {},
     "output_type": "execute_result"
    }
   ],
   "source": [
    "def spacy_features(text):\n",
    "    \"\"\"\n",
    "        Generate more features using the text.\n",
    "    \"\"\"\n",
    "    text = spacy_model(text)\n",
    "    token_features = {'norm_text': '', 'noun_counts': 0, 'digits_counts': 0, 'lower_counts': 0, 'upper_counts': 0, 'title_counts': 0, 'total_words': 0}\n",
    "    for token in text:\n",
    "        if token.pos_ in ['NOUN', 'PROPN']:\n",
    "            token_features['noun_counts'] += 1\n",
    "        if token.is_digit:\n",
    "            token_features['digits_counts'] += 1\n",
    "        if token.is_lower:\n",
    "            token_features['lower_counts'] += 1\n",
    "        if token.is_upper:\n",
    "            token_features['upper_counts'] += 1\n",
    "        if token.is_title:\n",
    "            token_features['title_counts'] += 1\n",
    "        token_features['total_words'] = len(text)\n",
    "        token_features['norm_text'] += token.lemma_ + ' '\n",
    "    token_features['norm_text'] = token_features['norm_text'].lower().strip()\n",
    "        \n",
    "    return list(token_features.values())\n",
    "\n",
    "\n",
    "df_spacy_vectors = df['cleaned_text'].apply(spacy_features)\n",
    "df_spacy_vectors = np.row_stack(df_spacy_vectors)\n",
    "df_spacy_vectors = pd.DataFrame(df_spacy_vectors)\n",
    "df_spacy_vectors.to_csv('spacy_features.csv', index=False) # saved\n",
    "df_spacy_vectors.head()"
   ]
  },
  {
   "cell_type": "code",
   "execution_count": 112,
   "id": "f6dd3e48-ce09-4b39-8ef0-c1a4875874b0",
   "metadata": {},
   "outputs": [
    {
     "data": {
      "text/plain": [
       "{'norm_text': 'effect combination bystolic 5 mg fish oil',\n",
       " 'norm_text_counts': 7,\n",
       " 'noun_words': ['effect', 'combination', 'Mg', 'Fish', 'Oil'],\n",
       " 'noun_counts': 5,\n",
       " 'stop_word_counts': 10,\n",
       " 'digits_counts': 1,\n",
       " 'lower_counts': 10,\n",
       " 'upper_counts': 0,\n",
       " 'title_counts': 5,\n",
       " 'total_words': 17,\n",
       " 'noun_phrase_counts': 6,\n",
       " 'noun_phrases': ['It',\n",
       "  'no side effect',\n",
       "  'I',\n",
       "  'it',\n",
       "  'combination',\n",
       "  'Bystolic 5 Mg and Fish Oil']}"
      ]
     },
     "execution_count": 112,
     "metadata": {},
     "output_type": "execute_result"
    }
   ],
   "source": [
    "df_spacy_vectors_nouns[0]"
   ]
  },
  {
   "cell_type": "code",
   "execution_count": null,
   "id": "9fcff37f-ff25-4b68-8e73-e33507df2b6c",
   "metadata": {},
   "outputs": [],
   "source": []
  },
  {
   "cell_type": "code",
   "execution_count": 3,
   "id": "a067119d-3bd4-4070-817f-c9a24b0bc3de",
   "metadata": {},
   "outputs": [],
   "source": [
    "import pickle\n",
    "import pandas as pd"
   ]
  },
  {
   "cell_type": "code",
   "execution_count": 4,
   "id": "11e1d18f-5aca-4087-a2d4-dedede4a80bd",
   "metadata": {},
   "outputs": [],
   "source": [
    "file_to_store = open(\"df_spacy_vectors_nouns.pkl\", \"rb\")\n",
    "df_spacy_vectors_nouns_pkl_obj = pickle.load(file_to_store)\n",
    "file_to_store.close()"
   ]
  },
  {
   "cell_type": "code",
   "execution_count": null,
   "id": "fa9c4eb1-f5db-4885-9db9-f07acd82b46c",
   "metadata": {},
   "outputs": [],
   "source": []
  },
  {
   "cell_type": "code",
   "execution_count": 5,
   "id": "158c2e76-c469-4c3b-bb13-a5b355f161b2",
   "metadata": {},
   "outputs": [
    {
     "data": {
      "text/plain": [
       "161297"
      ]
     },
     "execution_count": 5,
     "metadata": {},
     "output_type": "execute_result"
    }
   ],
   "source": [
    "list_of_fs = []\n",
    "for x in df_spacy_vectors_nouns_pkl_obj:\n",
    "    f = {}\n",
    "    f['norm_text'] = x['norm_text']\n",
    "    f['norm_text_counts'] = x['norm_text_counts']\n",
    "    f['noun_counts'] = x['noun_counts']\n",
    "    f['stop_word_counts'] = x['stop_word_counts']\n",
    "    f['digits_counts'] = x['digits_counts']\n",
    "    f['total_words'] = x['total_words']\n",
    "    f['noun_phrase_counts'] = x['noun_phrase_counts']\n",
    "    list_of_fs.append(f)\n",
    "len(list_of_fs)"
   ]
  },
  {
   "cell_type": "code",
   "execution_count": 6,
   "id": "f5e6d1fe-ed10-4b2e-ac60-b52bb4c82a8b",
   "metadata": {},
   "outputs": [
    {
     "data": {
      "text/html": [
       "<div>\n",
       "<style scoped>\n",
       "    .dataframe tbody tr th:only-of-type {\n",
       "        vertical-align: middle;\n",
       "    }\n",
       "\n",
       "    .dataframe tbody tr th {\n",
       "        vertical-align: top;\n",
       "    }\n",
       "\n",
       "    .dataframe thead th {\n",
       "        text-align: right;\n",
       "    }\n",
       "</style>\n",
       "<table border=\"1\" class=\"dataframe\">\n",
       "  <thead>\n",
       "    <tr style=\"text-align: right;\">\n",
       "      <th></th>\n",
       "      <th>norm_text</th>\n",
       "      <th>norm_text_counts</th>\n",
       "      <th>noun_counts</th>\n",
       "      <th>stop_word_counts</th>\n",
       "      <th>digits_counts</th>\n",
       "      <th>total_words</th>\n",
       "      <th>noun_phrase_counts</th>\n",
       "    </tr>\n",
       "  </thead>\n",
       "  <tbody>\n",
       "    <tr>\n",
       "      <th>0</th>\n",
       "      <td>effect combination bystolic 5 mg fish oil</td>\n",
       "      <td>7</td>\n",
       "      <td>5</td>\n",
       "      <td>10</td>\n",
       "      <td>1</td>\n",
       "      <td>17</td>\n",
       "      <td>6</td>\n",
       "    </tr>\n",
       "    <tr>\n",
       "      <th>1</th>\n",
       "      <td>son halfway fourth week intuniv concerned begi...</td>\n",
       "      <td>53</td>\n",
       "      <td>24</td>\n",
       "      <td>88</td>\n",
       "      <td>1</td>\n",
       "      <td>141</td>\n",
       "      <td>34</td>\n",
       "    </tr>\n",
       "  </tbody>\n",
       "</table>\n",
       "</div>"
      ],
      "text/plain": [
       "                                           norm_text  norm_text_counts  \\\n",
       "0          effect combination bystolic 5 mg fish oil                 7   \n",
       "1  son halfway fourth week intuniv concerned begi...                53   \n",
       "\n",
       "   noun_counts  stop_word_counts  digits_counts  total_words  \\\n",
       "0            5                10              1           17   \n",
       "1           24                88              1          141   \n",
       "\n",
       "   noun_phrase_counts  \n",
       "0                   6  \n",
       "1                  34  "
      ]
     },
     "execution_count": 6,
     "metadata": {},
     "output_type": "execute_result"
    }
   ],
   "source": [
    "df_f = pd.DataFrame(list_of_fs)\n",
    "df_f.head(2)"
   ]
  },
  {
   "cell_type": "code",
   "execution_count": 7,
   "id": "8b812180-6d48-4b00-a6d6-662550f2de1b",
   "metadata": {},
   "outputs": [
    {
     "data": {
      "text/plain": [
       "((161297, 7), (161297, 7))"
      ]
     },
     "execution_count": 7,
     "metadata": {},
     "output_type": "execute_result"
    }
   ],
   "source": [
    "df_f.shape, df.shape"
   ]
  },
  {
   "cell_type": "code",
   "execution_count": 8,
   "id": "0247cc71-47b0-413c-b381-4acff960288f",
   "metadata": {},
   "outputs": [],
   "source": [
    "df_f['condition'] = df['condition']"
   ]
  },
  {
   "cell_type": "code",
   "execution_count": null,
   "id": "780cbc8a-d1cd-4274-a59d-0fe0f933aa1e",
   "metadata": {},
   "outputs": [],
   "source": []
  },
  {
   "cell_type": "code",
   "execution_count": 9,
   "id": "2bf55d17-9406-4d9d-a654-345e0b193a85",
   "metadata": {},
   "outputs": [],
   "source": [
    "# Category-wise length review\n",
    "\n",
    "df_f['sentence_length'] = df_f[\"norm_text\"].apply(lambda x: len(x.split()))"
   ]
  },
  {
   "cell_type": "code",
   "execution_count": 10,
   "id": "1e0187e0-a5c8-4b04-ae32-7c9faa72351d",
   "metadata": {},
   "outputs": [
    {
     "data": {
      "text/plain": [
       "array(['OTHERS', 'ADHD', 'Birth Control', 'Bipolar Disorde', 'Depression',\n",
       "       'Obesity', 'Insomnia', 'Pain', 'Anxiety', 'Acne', 'Weight Loss'],\n",
       "      dtype=object)"
      ]
     },
     "execution_count": 10,
     "metadata": {},
     "output_type": "execute_result"
    }
   ],
   "source": [
    "df_f['condition'].unique()"
   ]
  },
  {
   "cell_type": "code",
   "execution_count": 11,
   "id": "f7c9f273-0003-4157-9541-f4033b553ffc",
   "metadata": {},
   "outputs": [],
   "source": [
    "# df['length_bins'] = pd.cut(df['sentence_length'], bins=40)\n",
    "cut_bins = [0, 1, 2, 5, 10, 20, 30, 50, 70, 100, 200, 300, 400, 500, 600, 700, 800, 900]\n",
    "df_f['length_bins'] = pd.cut(df_f['sentence_length'], bins=cut_bins)"
   ]
  },
  {
   "cell_type": "code",
   "execution_count": null,
   "id": "14fa5c54-4862-4853-aac9-a01d7e42abcf",
   "metadata": {},
   "outputs": [],
   "source": []
  },
  {
   "cell_type": "code",
   "execution_count": 12,
   "id": "4824f18d-1fad-4a13-bd1e-4c8ff197d651",
   "metadata": {},
   "outputs": [
    {
     "name": "stdout",
     "output_type": "stream",
     "text": [
      "OTHERS\n"
     ]
    },
    {
     "data": {
      "image/png": "[encoded data removed]",
      "text/plain": [
       "<Figure size 432x288 with 1 Axes>"
      ]
     },
     "metadata": {
      "needs_background": "light"
     },
     "output_type": "display_data"
    },
    {
     "name": "stdout",
     "output_type": "stream",
     "text": [
      "ADHD\n"
     ]
    },
    {
     "data": {
      "image/png": "[encoded data removed]",
      "text/plain": [
       "<Figure size 432x288 with 1 Axes>"
      ]
     },
     "metadata": {
      "needs_background": "light"
     },
     "output_type": "display_data"
    },
    {
     "name": "stdout",
     "output_type": "stream",
     "text": [
      "Birth Control\n"
     ]
    },
    {
     "data": {
      "image/png": "[encoded data removed]",
      "text/plain": [
       "<Figure size 432x288 with 1 Axes>"
      ]
     },
     "metadata": {
      "needs_background": "light"
     },
     "output_type": "display_data"
    },
    {
     "name": "stdout",
     "output_type": "stream",
     "text": [
      "Bipolar Disorde\n"
     ]
    },
    {
     "data": {
      "image/png": "[encoded data removed]",
      "text/plain": [
       "<Figure size 432x288 with 1 Axes>"
      ]
     },
     "metadata": {
      "needs_background": "light"
     },
     "output_type": "display_data"
    },
    {
     "name": "stdout",
     "output_type": "stream",
     "text": [
      "Depression\n"
     ]
    },
    {
     "data": {
      "image/png": "[encoded data removed]",
      "text/plain": [
       "<Figure size 432x288 with 1 Axes>"
      ]
     },
     "metadata": {
      "needs_background": "light"
     },
     "output_type": "display_data"
    },
    {
     "name": "stdout",
     "output_type": "stream",
     "text": [
      "Obesity\n"
     ]
    },
    {
     "data": {
      "image/png": "[encoded data removed]",
      "text/plain": [
       "<Figure size 432x288 with 1 Axes>"
      ]
     },
     "metadata": {
      "needs_background": "light"
     },
     "output_type": "display_data"
    },
    {
     "name": "stdout",
     "output_type": "stream",
     "text": [
      "Insomnia\n"
     ]
    },
    {
     "data": {
      "image/png": "[encoded data removed]",
      "text/plain": [
       "<Figure size 432x288 with 1 Axes>"
      ]
     },
     "metadata": {
      "needs_background": "light"
     },
     "output_type": "display_data"
    },
    {
     "name": "stdout",
     "output_type": "stream",
     "text": [
      "Pain\n"
     ]
    },
    {
     "data": {
      "image/png": "[encoded data removed]",
      "text/plain": [
       "<Figure size 432x288 with 1 Axes>"
      ]
     },
     "metadata": {
      "needs_background": "light"
     },
     "output_type": "display_data"
    },
    {
     "name": "stdout",
     "output_type": "stream",
     "text": [
      "Anxiety\n"
     ]
    },
    {
     "data": {
      "image/png": "[encoded data removed]",
      "text/plain": [
       "<Figure size 432x288 with 1 Axes>"
      ]
     },
     "metadata": {
      "needs_background": "light"
     },
     "output_type": "display_data"
    },
    {
     "name": "stdout",
     "output_type": "stream",
     "text": [
      "Acne\n"
     ]
    },
    {
     "data": {
      "image/png": "[encoded data removed]",
      "text/plain": [
       "<Figure size 432x288 with 1 Axes>"
      ]
     },
     "metadata": {
      "needs_background": "light"
     },
     "output_type": "display_data"
    },
    {
     "name": "stdout",
     "output_type": "stream",
     "text": [
      "Weight Loss\n"
     ]
    },
    {
     "data": {
      "image/png": "[encoded data removed]",
      "text/plain": [
       "<Figure size 432x288 with 1 Axes>"
      ]
     },
     "metadata": {
      "needs_background": "light"
     },
     "output_type": "display_data"
    }
   ],
   "source": [
    "import seaborn as sns\n",
    "import matplotlib.pyplot as plt\n",
    "\n",
    "for condition in df_f['condition'].unique():\n",
    "    print(condition)\n",
    "    p = sns.countplot(x ='length_bins', data = df_f[df_f['condition'] == condition])\n",
    "    p.set_xticklabels(p.get_xticklabels(), rotation=90) \n",
    "    p.bar_label(p.containers[0], label_type='edge')\n",
    "    plt.show()\n"
   ]
  },
  {
   "cell_type": "code",
   "execution_count": 13,
   "id": "835960d1-f479-4de5-8276-63238fe3c732",
   "metadata": {},
   "outputs": [
    {
     "data": {
      "text/plain": [
       "17502"
      ]
     },
     "execution_count": 13,
     "metadata": {},
     "output_type": "execute_result"
    }
   ],
   "source": [
    "other_downsampled_indexes1 = df_f[(df_f['condition'] == 'OTHERS') & ((df_f['sentence_length'] >= 30) & (df_f['sentence_length'] < 50 ))].sample(frac=1)[7000:].index.tolist()\n",
    "len(other_downsampled_indexes1)"
   ]
  },
  {
   "cell_type": "code",
   "execution_count": 14,
   "id": "2e6a6373-0547-46cd-ac36-7e5684a31486",
   "metadata": {},
   "outputs": [
    {
     "data": {
      "text/plain": [
       "14416"
      ]
     },
     "execution_count": 14,
     "metadata": {},
     "output_type": "execute_result"
    }
   ],
   "source": [
    "other_downsampled_indexes2 = df_f[(df_f['condition'] == 'OTHERS') & ((df_f['sentence_length'] >= 50) & (df_f['sentence_length'] < 70 ))].sample(frac=1)[7000:].index.tolist()\n",
    "len(other_downsampled_indexes2)"
   ]
  },
  {
   "cell_type": "code",
   "execution_count": 15,
   "id": "1e0fd067-09f2-4f74-b632-7988aa5dc740",
   "metadata": {},
   "outputs": [
    {
     "data": {
      "text/plain": [
       "47346"
      ]
     },
     "execution_count": 15,
     "metadata": {},
     "output_type": "execute_result"
    }
   ],
   "source": [
    "other_downsampled_indexes3 = df_f[(df_f['condition'] == 'OTHERS')].sample(frac=1)[40000:].index.tolist()\n",
    "len(other_downsampled_indexes3)"
   ]
  },
  {
   "cell_type": "code",
   "execution_count": 16,
   "id": "0d5c9631-389f-4687-8dac-355b0ad5b2f4",
   "metadata": {},
   "outputs": [
    {
     "data": {
      "text/plain": [
       "(87346, 10)"
      ]
     },
     "execution_count": 16,
     "metadata": {},
     "output_type": "execute_result"
    }
   ],
   "source": [
    "df_f[(df_f['condition'] == 'OTHERS')].shape"
   ]
  },
  {
   "cell_type": "code",
   "execution_count": 17,
   "id": "35132014-483e-49bb-8ce4-24cf762d9ed6",
   "metadata": {},
   "outputs": [
    {
     "data": {
      "text/plain": [
       "61903"
      ]
     },
     "execution_count": 17,
     "metadata": {},
     "output_type": "execute_result"
    }
   ],
   "source": [
    "other_downsampled_indexes = list(set(other_downsampled_indexes1 + other_downsampled_indexes2 + other_downsampled_indexes3))\n",
    "len(other_downsampled_indexes)"
   ]
  },
  {
   "cell_type": "code",
   "execution_count": 18,
   "id": "8507477a-cd5d-4a98-b3ae-64a49d8721da",
   "metadata": {},
   "outputs": [],
   "source": [
    "df_f.drop(df_f.index[other_downsampled_indexes], inplace=True) # Drop indexes"
   ]
  },
  {
   "cell_type": "code",
   "execution_count": 19,
   "id": "c6ea6d21-5d34-40a1-85a9-293967259741",
   "metadata": {},
   "outputs": [
    {
     "data": {
      "text/plain": [
       "(99394, 10)"
      ]
     },
     "execution_count": 19,
     "metadata": {},
     "output_type": "execute_result"
    }
   ],
   "source": [
    "df_f.shape"
   ]
  },
  {
   "cell_type": "code",
   "execution_count": 20,
   "id": "d8acbc8d-4ad2-45b2-b4b3-02d80ec09cf0",
   "metadata": {},
   "outputs": [
    {
     "data": {
      "text/plain": [
       "<AxesSubplot:>"
      ]
     },
     "execution_count": 20,
     "metadata": {},
     "output_type": "execute_result"
    },
    {
     "data": {
      "image/png": "[encoded data removed]",
      "text/plain": [
       "<Figure size 432x288 with 1 Axes>"
      ]
     },
     "metadata": {
      "needs_background": "light"
     },
     "output_type": "display_data"
    }
   ],
   "source": [
    "df_f['condition'].value_counts().plot(kind='bar')"
   ]
  },
  {
   "cell_type": "code",
   "execution_count": 21,
   "id": "bb4e72b1-82dc-4758-a64e-462ee6c82314",
   "metadata": {},
   "outputs": [
    {
     "data": {
      "text/plain": [
       "(97982, 10)"
      ]
     },
     "execution_count": 21,
     "metadata": {},
     "output_type": "execute_result"
    }
   ],
   "source": [
    "# Drop 2 tokens sentences and greater than 200\n",
    "\n",
    "df_f = df_f[~((df_f['sentence_length'] <= 2) | (df_f['sentence_length'] > 100))]\n",
    "df_f.shape"
   ]
  },
  {
   "cell_type": "code",
   "execution_count": 22,
   "id": "555751b3-855b-4b1f-ae12-0d56cbfce4c2",
   "metadata": {},
   "outputs": [
    {
     "data": {
      "text/plain": [
       "<AxesSubplot:xlabel='condition', ylabel='count'>"
      ]
     },
     "execution_count": 22,
     "metadata": {},
     "output_type": "execute_result"
    },
    {
     "data": {
      "image/png": "[encoded data removed]",
      "text/plain": [
       "<Figure size 432x288 with 1 Axes>"
      ]
     },
     "metadata": {
      "needs_background": "light"
     },
     "output_type": "display_data"
    }
   ],
   "source": [
    "sns.countplot(x='condition', data=df_f)"
   ]
  },
  {
   "cell_type": "code",
   "execution_count": 23,
   "id": "7dbf1e98-5b89-4f98-995d-ed8d3b792557",
   "metadata": {},
   "outputs": [
    {
     "data": {
      "text/html": [
       "<div>\n",
       "<style scoped>\n",
       "    .dataframe tbody tr th:only-of-type {\n",
       "        vertical-align: middle;\n",
       "    }\n",
       "\n",
       "    .dataframe tbody tr th {\n",
       "        vertical-align: top;\n",
       "    }\n",
       "\n",
       "    .dataframe thead th {\n",
       "        text-align: right;\n",
       "    }\n",
       "</style>\n",
       "<table border=\"1\" class=\"dataframe\">\n",
       "  <thead>\n",
       "    <tr style=\"text-align: right;\">\n",
       "      <th></th>\n",
       "      <th>norm_text</th>\n",
       "      <th>norm_text_counts</th>\n",
       "      <th>noun_counts</th>\n",
       "      <th>stop_word_counts</th>\n",
       "      <th>digits_counts</th>\n",
       "      <th>total_words</th>\n",
       "      <th>noun_phrase_counts</th>\n",
       "      <th>condition</th>\n",
       "      <th>sentence_length</th>\n",
       "      <th>length_bins</th>\n",
       "    </tr>\n",
       "  </thead>\n",
       "  <tbody>\n",
       "    <tr>\n",
       "      <th>1</th>\n",
       "      <td>son halfway fourth week intuniv concerned begi...</td>\n",
       "      <td>53</td>\n",
       "      <td>24</td>\n",
       "      <td>88</td>\n",
       "      <td>1</td>\n",
       "      <td>141</td>\n",
       "      <td>34</td>\n",
       "      <td>ADHD</td>\n",
       "      <td>53</td>\n",
       "      <td>(50, 70]</td>\n",
       "    </tr>\n",
       "    <tr>\n",
       "      <th>2</th>\n",
       "      <td>oral contraceptive 21 pill cycle happy light p...</td>\n",
       "      <td>55</td>\n",
       "      <td>35</td>\n",
       "      <td>81</td>\n",
       "      <td>2</td>\n",
       "      <td>136</td>\n",
       "      <td>37</td>\n",
       "      <td>Birth Control</td>\n",
       "      <td>55</td>\n",
       "      <td>(50, 70]</td>\n",
       "    </tr>\n",
       "  </tbody>\n",
       "</table>\n",
       "</div>"
      ],
      "text/plain": [
       "                                           norm_text  norm_text_counts  \\\n",
       "1  son halfway fourth week intuniv concerned begi...                53   \n",
       "2  oral contraceptive 21 pill cycle happy light p...                55   \n",
       "\n",
       "   noun_counts  stop_word_counts  digits_counts  total_words  \\\n",
       "1           24                88              1          141   \n",
       "2           35                81              2          136   \n",
       "\n",
       "   noun_phrase_counts      condition  sentence_length length_bins  \n",
       "1                  34           ADHD               53    (50, 70]  \n",
       "2                  37  Birth Control               55    (50, 70]  "
      ]
     },
     "execution_count": 23,
     "metadata": {},
     "output_type": "execute_result"
    }
   ],
   "source": [
    "df_f.head(2)"
   ]
  },
  {
   "cell_type": "code",
   "execution_count": 24,
   "id": "e8a6fd3f-5906-457b-96e3-0afbbcc53063",
   "metadata": {},
   "outputs": [],
   "source": [
    "# !pip install imbalanced-learn"
   ]
  },
  {
   "cell_type": "code",
   "execution_count": 25,
   "id": "17a4572e-379d-4047-8dc0-717b33837ea2",
   "metadata": {},
   "outputs": [
    {
     "data": {
      "text/plain": [
       "array([0, 4, 4, ..., 4, 7, 7])"
      ]
     },
     "execution_count": 25,
     "metadata": {},
     "output_type": "execute_result"
    }
   ],
   "source": [
    "from sklearn import preprocessing\n",
    "\n",
    "le = preprocessing.LabelEncoder()\n",
    "y = le.fit_transform(df_f['condition'])\n",
    "y"
   ]
  },
  {
   "cell_type": "code",
   "execution_count": null,
   "id": "86d7aef2-cebc-4e0d-b2a5-64ab5e7a7cb1",
   "metadata": {},
   "outputs": [],
   "source": []
  },
  {
   "cell_type": "code",
   "execution_count": null,
   "id": "00cc46f1-1a23-4e11-91b2-85ae1d0736ed",
   "metadata": {},
   "outputs": [],
   "source": []
  },
  {
   "cell_type": "code",
   "execution_count": 26,
   "id": "e535e941-3c5a-424d-bc58-4be7abbdde28",
   "metadata": {},
   "outputs": [
    {
     "name": "stdout",
     "output_type": "stream",
     "text": [
      "(97982, 796749)\n"
     ]
    }
   ],
   "source": [
    "from sklearn.feature_extraction.text import TfidfVectorizer\n",
    "\n",
    "vectorizer = TfidfVectorizer(ngram_range=(1, 2), max_df=0.5)\n",
    "X = vectorizer.fit_transform(df_f['norm_text'])\n",
    "print(X.shape)"
   ]
  },
  {
   "cell_type": "code",
   "execution_count": 182,
   "id": "1800b6e8-59dd-4837-8549-b93fafff9044",
   "metadata": {},
   "outputs": [
    {
     "name": "stdout",
     "output_type": "stream",
     "text": [
      "(159105, 1048576)\n"
     ]
    }
   ],
   "source": [
    "from sklearn.feature_extraction.text import HashingVectorizer\n",
    "\n",
    "vectorizer = HashingVectorizer(ngram_range=(1, 3), n_features=2 ** 20)\n",
    "X = vectorizer.fit_transform(df_f['norm_text'])\n",
    "print(X.shape)"
   ]
  },
  {
   "cell_type": "code",
   "execution_count": 183,
   "id": "ca9db6cc-676d-4046-96aa-f35f3f366b16",
   "metadata": {},
   "outputs": [
    {
     "data": {
      "text/plain": [
       "(159105, 6)"
      ]
     },
     "execution_count": 183,
     "metadata": {},
     "output_type": "execute_result"
    }
   ],
   "source": [
    "from sklearn.preprocessing import MinMaxScaler\n",
    "\n",
    "scaler = MinMaxScaler()\n",
    "X_scaled = scaler.fit_transform(df_f[['norm_text_counts', 'noun_counts', 'stop_word_counts',  'digits_counts', 'total_words', 'noun_phrase_counts']])\n",
    "X_scaled.shape"
   ]
  },
  {
   "cell_type": "code",
   "execution_count": 173,
   "id": "d205f1ab-4e62-4d06-8d9e-e4570c321669",
   "metadata": {},
   "outputs": [],
   "source": [
    "from sklearn.model_selection import train_test_split\n",
    "X_train, X_test, y_train, y_test = train_test_split(X, y, test_size=0.33, random_state=25, stratify=y)\n",
    "# X_train_actual, X_test_actual, y_train_actual, y_test_actual = train_test_split(X, y, test_size=0.33, random_state=25, stratify=y)"
   ]
  },
  {
   "cell_type": "code",
   "execution_count": 174,
   "id": "3f2986c1-cd73-4480-bde7-9c36f6189b14",
   "metadata": {},
   "outputs": [
    {
     "data": {
      "text/plain": [
       "((211541, 796749), (211541,))"
      ]
     },
     "execution_count": 174,
     "metadata": {},
     "output_type": "execute_result"
    }
   ],
   "source": [
    "from imblearn.over_sampling import SMOTE\n",
    "\n",
    "oversample = SMOTE()\n",
    "X_train, y_train = oversample.fit_resample(X_train, y_train)\n",
    "X_train.shape, y_train.shape"
   ]
  },
  {
   "cell_type": "code",
   "execution_count": 230,
   "id": "ee6e311c-01ac-4667-b4b6-1cb90c5149ff",
   "metadata": {},
   "outputs": [
    {
     "name": "stdout",
     "output_type": "stream",
     "text": [
      "[LibLinear].......*\n",
      "optimization finished, #iter = 73\n",
      "Objective value = -441.815729\n",
      "nSV = 5667\n",
      "....*\n",
      "optimization finished, #iter = 49\n",
      "Objective value = -479.339421\n",
      "nSV = 4790\n",
      "....*.\n",
      "optimization finished, #iter = 50\n",
      "Objective value = -867.636380\n",
      "nSV = 6299\n",
      "......*\n",
      "optimization finished, #iter = 62\n",
      "Objective value = -682.137265\n",
      "nSV = 6867\n",
      "...*\n",
      "optimization finished, #iter = 34\n",
      "Objective value = -889.985925\n",
      "nSV = 8411\n",
      "...*.\n",
      "optimization finished, #iter = 40\n",
      "Objective value = -1222.246729\n",
      "nSV = 8020\n",
      "......*\n",
      "optimization finished, #iter = 69\n",
      "Objective value = -473.085814\n",
      "nSV = 3942\n",
      "...*\n",
      "optimization finished, #iter = 36\n",
      "Objective value = -2068.845333\n",
      "nSV = 12283\n",
      ".......*\n",
      "optimization finished, #iter = 71\n",
      "Objective value = -645.588272\n",
      "nSV = 4830\n",
      "....*\n",
      "optimization finished, #iter = 47\n",
      "Objective value = -770.608768\n",
      "nSV = 5718\n",
      ".......*\n",
      "optimization finished, #iter = 71\n",
      "Objective value = -616.234731\n",
      "nSV = 4518\n",
      "[LibLinear].......*\n",
      "optimization finished, #iter = 71\n",
      "Objective value = -430.798059\n",
      "nSV = 5399\n",
      "....*.\n",
      "optimization finished, #iter = 50\n",
      "Objective value = -469.745392\n",
      "nSV = 4703\n",
      "....*\n",
      "optimization finished, #iter = 49\n",
      "Objective value = -857.415540\n",
      "nSV = 6169\n",
      "......*\n",
      "optimization finished, #iter = 63\n",
      "Objective value = -686.477417\n",
      "nSV = 6787\n",
      "...*\n",
      "optimization finished, #iter = 35\n",
      "Objective value = -875.905686\n",
      "nSV = 8266\n",
      "...*.\n",
      "optimization finished, #iter = 40\n",
      "Objective value = -1242.648718\n",
      "nSV = 8079\n",
      "......*\n",
      "optimization finished, #iter = 66\n",
      "Objective value = -480.746195\n",
      "nSV = 4141\n",
      "...*\n",
      "optimization finished, #iter = 36\n",
      "Objective value = -2070.670586\n",
      "nSV = 12279\n",
      "......*.\n",
      "optimization finished, #iter = 70\n",
      "Objective value = -637.049343\n",
      "nSV = 4756\n",
      "....*\n",
      "optimization finished, #iter = 47\n",
      "Objective value = -741.476441\n",
      "nSV = 5537\n",
      "......*.\n",
      "optimization finished, #iter = 70\n",
      "Objective value = -629.374363\n",
      "nSV = 4608\n",
      "[LibLinear].......*\n",
      "optimization finished, #iter = 72\n",
      "Objective value = -438.907201\n",
      "nSV = 5653\n",
      "....*\n",
      "optimization finished, #iter = 48\n",
      "Objective value = -453.274674\n",
      "nSV = 4504\n",
      "....*.\n",
      "optimization finished, #iter = 50\n",
      "Objective value = -851.103195\n",
      "nSV = 6097\n",
      "......*\n",
      "optimization finished, #iter = 62\n",
      "Objective value = -694.410774\n",
      "nSV = 6896\n",
      "...*\n",
      "optimization finished, #iter = 34\n",
      "Objective value = -884.342433\n",
      "nSV = 8442\n",
      "...*\n",
      "optimization finished, #iter = 38\n",
      "Objective value = -1234.563717\n",
      "nSV = 8106\n",
      "......*\n",
      "optimization finished, #iter = 69\n",
      "Objective value = -489.605623\n",
      "nSV = 3937\n",
      "...*\n",
      "optimization finished, #iter = 36\n",
      "Objective value = -2081.055736\n",
      "nSV = 12304\n",
      ".......*\n",
      "optimization finished, #iter = 71\n",
      "Objective value = -642.050578\n",
      "nSV = 4670\n",
      "....*\n",
      "optimization finished, #iter = 48\n",
      "Objective value = -774.976062\n",
      "nSV = 5734\n",
      "......*.\n",
      "optimization finished, #iter = 70\n",
      "Objective value = -614.414259\n",
      "nSV = 4606\n",
      "Training accuracy:  0.9939462144437115\n",
      "Test accuracy:  0.8063952811517715\n",
      "              precision    recall  f1-score   support\n",
      "\n",
      "           0       0.91      0.86      0.89      1083\n",
      "           1       0.93      0.88      0.91      1803\n",
      "           2       0.75      0.69      0.72      1842\n",
      "           3       0.83      0.70      0.76      1295\n",
      "           4       0.95      0.97      0.96      9369\n",
      "           5       0.76      0.76      0.76      2839\n",
      "           6       0.83      0.81      0.82      1139\n",
      "           7       0.38      0.48      0.42      2337\n",
      "           8       0.70      0.58      0.63      1154\n",
      "           9       0.82      0.78      0.80      1756\n",
      "          10       0.70      0.65      0.67      1152\n",
      "\n",
      "    accuracy                           0.81     25769\n",
      "   macro avg       0.78      0.74      0.76     25769\n",
      "weighted avg       0.82      0.81      0.81     25769\n",
      "\n"
     ]
    }
   ],
   "source": [
    "from sklearn.svm import LinearSVC\n",
    "from sklearn.calibration import CalibratedClassifierCV\n",
    "from sklearn.multiclass import OneVsRestClassifier\n",
    "\n",
    "from sklearn.metrics import accuracy_score\n",
    "from sklearn.metrics import classification_report\n",
    "\n",
    "X_train1 = X_train[np.where(y_binary_test_pred == 1)[0]]\n",
    "y_train1 = y_train[np.where(y_binary_test_pred == 1)[0]]\n",
    "X_test1 = X_test[np.where(y_binary_test_pred == 1)[0]]\n",
    "y_test1 = y_test[np.where(y_binary_test_pred == 1)[0]]\n",
    "\n",
    "\n",
    "\n",
    "l_svc_clf = LinearSVC(random_state=25, class_weight='balanced', verbose=1)\n",
    "clf = CalibratedClassifierCV(base_estimator=l_svc_clf, cv=3)\n",
    "\n",
    "clf.fit(X_train1, y_train1)\n",
    "\n",
    "y_train_pred1 = clf.predict(X_train1)\n",
    "y_test_pred1 = clf.predict(X_test1)\n",
    "\n",
    "print('Training accuracy: ', accuracy_score(y_train1, y_train_pred1))\n",
    "print('Test accuracy: ', accuracy_score(y_test1, y_test_pred1))\n",
    "\n",
    "print(classification_report(y_test1, y_test_pred1))"
   ]
  },
  {
   "cell_type": "code",
   "execution_count": 150,
   "id": "42989cee-6187-4ad0-9fe7-827a56c6da28",
   "metadata": {},
   "outputs": [
    {
     "name": "stdout",
     "output_type": "stream",
     "text": [
      "              precision    recall  f1-score   support\n",
      "\n",
      "           0       0.92      0.90      0.91      1099\n",
      "           1       0.95      0.91      0.93      1832\n",
      "           2       0.80      0.75      0.78      1907\n",
      "           3       0.87      0.75      0.80      1378\n",
      "           4       0.93      0.98      0.96      9473\n",
      "           5       0.83      0.79      0.81      2952\n",
      "           6       0.89      0.80      0.84      1189\n",
      "           7       0.75      0.86      0.80      8169\n",
      "           8       0.82      0.68      0.75      1170\n",
      "           9       0.90      0.65      0.76      1978\n",
      "          10       0.82      0.68      0.75      1188\n",
      "\n",
      "    accuracy                           0.85     32335\n",
      "   macro avg       0.86      0.80      0.83     32335\n",
      "weighted avg       0.86      0.85      0.85     32335\n",
      "\n"
     ]
    }
   ],
   "source": [
    "print(classification_report(y_test, y_pred_by_threshold))"
   ]
  },
  {
   "cell_type": "code",
   "execution_count": 36,
   "id": "f2507594-f1b4-4bf9-9bf7-35baf5af6bf1",
   "metadata": {},
   "outputs": [
    {
     "data": {
      "text/plain": [
       "array([9, 9])"
      ]
     },
     "execution_count": 36,
     "metadata": {},
     "output_type": "execute_result"
    }
   ],
   "source": [
    "clf.predict(X_test[0:2])"
   ]
  },
  {
   "cell_type": "code",
   "execution_count": 37,
   "id": "5471e838-e05c-4351-b615-5a5a3bc2005d",
   "metadata": {},
   "outputs": [],
   "source": [
    "def plot_confusion_matrix(cm, classes,\n",
    "                          normalize=False,\n",
    "                          title='Confusion matrix',\n",
    "                          cmap=plt.cm.Blues):\n",
    "    \"\"\"\n",
    "    This function prints and plots the confusion matrix.\n",
    "    Normalization can be applied by setting `normalize=True`.\n",
    "    \"\"\"\n",
    "    import itertools\n",
    "    if normalize:\n",
    "        cm = cm.astype('float') / cm.sum(axis=1)[:, np.newaxis]\n",
    "        print(\"Normalized confusion matrix\")\n",
    "    else:\n",
    "        print('Confusion matrix, without normalization')\n",
    "\n",
    "#     print(cm)\n",
    "\n",
    "    plt.imshow(cm, interpolation='nearest', cmap=cmap)\n",
    "    plt.title(title)\n",
    "    plt.colorbar()\n",
    "    tick_marks = np.arange(len(classes))\n",
    "    plt.xticks(tick_marks, classes, rotation=45)\n",
    "    plt.yticks(tick_marks, classes)\n",
    "\n",
    "    fmt = '.2f' if normalize else 'd'\n",
    "    thresh = cm.max() / 2.\n",
    "    for i, j in itertools.product(range(cm.shape[0]), range(cm.shape[1])):\n",
    "        plt.text(j, i, format(cm[i, j], fmt),\n",
    "                 horizontalalignment=\"center\",\n",
    "                 color=\"white\" if cm[i, j] > thresh else \"black\")\n",
    "\n",
    "    plt.ylabel('True label')\n",
    "    plt.xlabel('Predicted label')\n",
    "    plt.tight_layout()"
   ]
  },
  {
   "cell_type": "code",
   "execution_count": 38,
   "id": "318970ca-3284-461b-9a42-17c794967ef4",
   "metadata": {},
   "outputs": [],
   "source": [
    "from sklearn.metrics import confusion_matrix"
   ]
  },
  {
   "cell_type": "code",
   "execution_count": 39,
   "id": "66423f53-b5cf-4fd2-b971-86f7672f6b73",
   "metadata": {},
   "outputs": [],
   "source": [
    "# le.inverse_transform(y_test_pred)"
   ]
  },
  {
   "cell_type": "code",
   "execution_count": null,
   "id": "a9a155e6-5fb6-4e7c-8f97-ea18e750501c",
   "metadata": {},
   "outputs": [],
   "source": []
  },
  {
   "cell_type": "code",
   "execution_count": 147,
   "id": "d6b4b3f8-99cc-45cf-a6ce-36eb2c107eeb",
   "metadata": {},
   "outputs": [
    {
     "name": "stdout",
     "output_type": "stream",
     "text": [
      "Confusion matrix, without normalization\n"
     ]
    },
    {
     "data": {
      "image/png": "[encoded data removed]",
      "text/plain": [
       "<Figure size 720x720 with 2 Axes>"
      ]
     },
     "metadata": {
      "needs_background": "light"
     },
     "output_type": "display_data"
    }
   ],
   "source": [
    "cnf_matrix = confusion_matrix(le.inverse_transform(y_test), le.inverse_transform(y_pred_by_threshold), labels=le.classes_)\n",
    "np.set_printoptions(precision=2)\n",
    "\n",
    "# Plot non-normalized confusion matrix\n",
    "plt.figure(figsize=(10, 10))\n",
    "plot_confusion_matrix(cnf_matrix, classes=le.classes_, title='Confusion matrix, without normalization')"
   ]
  },
  {
   "cell_type": "code",
   "execution_count": 176,
   "id": "717d964e-fb3d-4d13-857d-87f22afae493",
   "metadata": {},
   "outputs": [],
   "source": [
    "from copy import deepcopy"
   ]
  },
  {
   "cell_type": "code",
   "execution_count": 182,
   "id": "53351e1b-c30a-4531-abab-fa508c12198c",
   "metadata": {},
   "outputs": [],
   "source": [
    "y_binary_test = deepcopy(y_test)\n",
    "y_binary_train = deepcopy(y_train)"
   ]
  },
  {
   "cell_type": "code",
   "execution_count": 183,
   "id": "12d48fa5-fef2-4e2a-8955-38290f5baadd",
   "metadata": {},
   "outputs": [],
   "source": [
    "y_binary_test[y_binary_test != 7] = 1\n",
    "y_binary_test[y_binary_test == 7] = 0\n",
    "\n",
    "y_binary_train[y_binary_train != 7] = 1\n",
    "y_binary_train[y_binary_train == 7] = 0"
   ]
  },
  {
   "cell_type": "code",
   "execution_count": 184,
   "id": "7b66c778-4935-4aa2-a9a0-cb3a8b3151da",
   "metadata": {},
   "outputs": [
    {
     "name": "stdout",
     "output_type": "stream",
     "text": [
      "[LibLinear]..................*.*\n",
      "optimization finished, #iter = 191\n",
      "Objective value = -7949.507343\n",
      "nSV = 61231\n",
      "[LibLinear]...................*\n",
      "optimization finished, #iter = 191\n",
      "Objective value = -9467.246804\n",
      "nSV = 66386\n",
      "[LibLinear]..................*\n",
      "optimization finished, #iter = 183\n",
      "Objective value = -10026.718544\n",
      "nSV = 69158\n",
      "Training accuracy:  0.9940011628951362\n",
      "Test accuracy:  0.9050255141487552\n",
      "              precision    recall  f1-score   support\n",
      "\n",
      "           0       0.89      0.71      0.79      8169\n",
      "           1       0.91      0.97      0.94     24166\n",
      "\n",
      "    accuracy                           0.91     32335\n",
      "   macro avg       0.90      0.84      0.87     32335\n",
      "weighted avg       0.90      0.91      0.90     32335\n",
      "\n"
     ]
    }
   ],
   "source": [
    "from sklearn.svm import LinearSVC\n",
    "from sklearn.calibration import CalibratedClassifierCV\n",
    "from sklearn.multiclass import OneVsRestClassifier\n",
    "from sklearn.metrics import accuracy_score\n",
    "from sklearn.metrics import classification_report\n",
    "\n",
    "\n",
    "l_svc_clf = LinearSVC(random_state=25, class_weight='balanced', verbose=1)\n",
    "clf = CalibratedClassifierCV(base_estimator=l_svc_clf, cv=3)\n",
    "\n",
    "clf.fit(X_train, y_binary_train)\n",
    "\n",
    "y_binary_train_pred = clf.predict(X_train)\n",
    "y_binary_test_pred = clf.predict(X_test)\n",
    "\n",
    "print('Training accuracy: ', accuracy_score(y_binary_train, y_binary_train_pred))\n",
    "print('Test accuracy: ', accuracy_score(y_binary_test, y_binary_test_pred))\n",
    "\n",
    "print(classification_report(y_binary_test, y_binary_test_pred))"
   ]
  },
  {
   "cell_type": "code",
   "execution_count": 185,
   "id": "49952654-fe74-4ab2-8408-10b6ed44d91b",
   "metadata": {},
   "outputs": [
    {
     "data": {
      "text/plain": [
       "array([[ 5832,  2337],\n",
       "       [  734, 23432]])"
      ]
     },
     "execution_count": 185,
     "metadata": {},
     "output_type": "execute_result"
    }
   ],
   "source": [
    "confusion_matrix(y_binary_test, y_binary_test_pred)"
   ]
  },
  {
   "cell_type": "code",
   "execution_count": 218,
   "id": "e3aded51-c4e1-41c1-aac7-732564e17057",
   "metadata": {},
   "outputs": [
    {
     "data": {
      "text/plain": [
       "32335"
      ]
     },
     "execution_count": 218,
     "metadata": {},
     "output_type": "execute_result"
    }
   ],
   "source": [
    "len(y_test)"
   ]
  },
  {
   "cell_type": "code",
   "execution_count": 228,
   "id": "69a5d614-e468-42c4-a82d-a3fc88370e55",
   "metadata": {},
   "outputs": [],
   "source": [
    "y_test_non_other = y_test[np.where(y_binary_test_pred == 1)[0]]\n",
    "y_test_non_other_pred = y_test_pred[np.where(y_binary_test_pred == 1)[0]]"
   ]
  },
  {
   "cell_type": "code",
   "execution_count": 229,
   "id": "9eaa1e96-76ee-4bd7-8809-bce0e419d10c",
   "metadata": {},
   "outputs": [
    {
     "name": "stdout",
     "output_type": "stream",
     "text": [
      "Test accuracy:  0.8469866894330397\n",
      "              precision    recall  f1-score   support\n",
      "\n",
      "           0       0.93      0.89      0.91      1083\n",
      "           1       0.97      0.90      0.93      1803\n",
      "           2       0.83      0.74      0.78      1842\n",
      "           3       0.89      0.79      0.83      1295\n",
      "           4       0.95      0.99      0.97      9369\n",
      "           5       0.84      0.80      0.82      2839\n",
      "           6       0.88      0.81      0.85      1139\n",
      "           7       0.43      0.59      0.50      2337\n",
      "           8       0.84      0.69      0.76      1154\n",
      "           9       0.88      0.80      0.84      1756\n",
      "          10       0.80      0.75      0.78      1152\n",
      "\n",
      "    accuracy                           0.85     25769\n",
      "   macro avg       0.84      0.79      0.81     25769\n",
      "weighted avg       0.86      0.85      0.85     25769\n",
      "\n"
     ]
    }
   ],
   "source": [
    "print('Test accuracy: ', accuracy_score(y_test_non_other, y_test_non_other_pred))\n",
    "\n",
    "print(classification_report(y_test_non_other, y_test_non_other_pred))"
   ]
  },
  {
   "cell_type": "code",
   "execution_count": null,
   "id": "42202071-6a50-4e87-b79d-011789f87eae",
   "metadata": {},
   "outputs": [],
   "source": []
  },
  {
   "cell_type": "code",
   "execution_count": null,
   "id": "95bb43bf-3137-4fe6-b4f3-207f3eaeb4d0",
   "metadata": {},
   "outputs": [],
   "source": []
  },
  {
   "cell_type": "code",
   "execution_count": 195,
   "id": "67ff871d-0f40-4c5c-902c-37bc1c79915a",
   "metadata": {},
   "outputs": [
    {
     "data": {
      "text/plain": [
       "(32335,)"
      ]
     },
     "execution_count": 195,
     "metadata": {},
     "output_type": "execute_result"
    }
   ],
   "source": [
    "y_binary_test_pred.shape"
   ]
  },
  {
   "cell_type": "code",
   "execution_count": 199,
   "id": "14d41a35-c5d8-4c1e-a588-523c931d07a3",
   "metadata": {},
   "outputs": [
    {
     "ename": "ValueError",
     "evalue": "y should be a 1d array, got an array of shape (32335, 2) instead.",
     "output_type": "error",
     "traceback": [
      "\u001b[0;31m---------------------------------------------------------------------------\u001b[0m",
      "\u001b[0;31mValueError\u001b[0m                                Traceback (most recent call last)",
      "\u001b[0;32m/tmp/ipykernel_87392/4040728841.py\u001b[0m in \u001b[0;36m<module>\u001b[0;34m\u001b[0m\n\u001b[1;32m      3\u001b[0m \u001b[0;34m\u001b[0m\u001b[0m\n\u001b[1;32m      4\u001b[0m \u001b[0;34m\u001b[0m\u001b[0m\n\u001b[0;32m----> 5\u001b[0;31m \u001b[0mfpr\u001b[0m\u001b[0;34m,\u001b[0m \u001b[0mtpr\u001b[0m\u001b[0;34m,\u001b[0m \u001b[0mthresholds\u001b[0m \u001b[0;34m=\u001b[0m \u001b[0mroc_curve\u001b[0m\u001b[0;34m(\u001b[0m\u001b[0my_binary_test\u001b[0m\u001b[0;34m,\u001b[0m \u001b[0my_binary_binarize_test_pred\u001b[0m\u001b[0;34m)\u001b[0m\u001b[0;34m\u001b[0m\u001b[0;34m\u001b[0m\u001b[0m\n\u001b[0m",
      "\u001b[0;32m~/.local/lib/python3.8/site-packages/sklearn/metrics/_ranking.py\u001b[0m in \u001b[0;36mroc_curve\u001b[0;34m(y_true, y_score, pos_label, sample_weight, drop_intermediate)\u001b[0m\n\u001b[1;32m    960\u001b[0m \u001b[0;34m\u001b[0m\u001b[0m\n\u001b[1;32m    961\u001b[0m     \"\"\"\n\u001b[0;32m--> 962\u001b[0;31m     fps, tps, thresholds = _binary_clf_curve(\n\u001b[0m\u001b[1;32m    963\u001b[0m         \u001b[0my_true\u001b[0m\u001b[0;34m,\u001b[0m \u001b[0my_score\u001b[0m\u001b[0;34m,\u001b[0m \u001b[0mpos_label\u001b[0m\u001b[0;34m=\u001b[0m\u001b[0mpos_label\u001b[0m\u001b[0;34m,\u001b[0m \u001b[0msample_weight\u001b[0m\u001b[0;34m=\u001b[0m\u001b[0msample_weight\u001b[0m\u001b[0;34m\u001b[0m\u001b[0;34m\u001b[0m\u001b[0m\n\u001b[1;32m    964\u001b[0m     )\n",
      "\u001b[0;32m~/.local/lib/python3.8/site-packages/sklearn/metrics/_ranking.py\u001b[0m in \u001b[0;36m_binary_clf_curve\u001b[0;34m(y_true, y_score, pos_label, sample_weight)\u001b[0m\n\u001b[1;32m    733\u001b[0m     \u001b[0mcheck_consistent_length\u001b[0m\u001b[0;34m(\u001b[0m\u001b[0my_true\u001b[0m\u001b[0;34m,\u001b[0m \u001b[0my_score\u001b[0m\u001b[0;34m,\u001b[0m \u001b[0msample_weight\u001b[0m\u001b[0;34m)\u001b[0m\u001b[0;34m\u001b[0m\u001b[0;34m\u001b[0m\u001b[0m\n\u001b[1;32m    734\u001b[0m     \u001b[0my_true\u001b[0m \u001b[0;34m=\u001b[0m \u001b[0mcolumn_or_1d\u001b[0m\u001b[0;34m(\u001b[0m\u001b[0my_true\u001b[0m\u001b[0;34m)\u001b[0m\u001b[0;34m\u001b[0m\u001b[0;34m\u001b[0m\u001b[0m\n\u001b[0;32m--> 735\u001b[0;31m     \u001b[0my_score\u001b[0m \u001b[0;34m=\u001b[0m \u001b[0mcolumn_or_1d\u001b[0m\u001b[0;34m(\u001b[0m\u001b[0my_score\u001b[0m\u001b[0;34m)\u001b[0m\u001b[0;34m\u001b[0m\u001b[0;34m\u001b[0m\u001b[0m\n\u001b[0m\u001b[1;32m    736\u001b[0m     \u001b[0massert_all_finite\u001b[0m\u001b[0;34m(\u001b[0m\u001b[0my_true\u001b[0m\u001b[0;34m)\u001b[0m\u001b[0;34m\u001b[0m\u001b[0;34m\u001b[0m\u001b[0m\n\u001b[1;32m    737\u001b[0m     \u001b[0massert_all_finite\u001b[0m\u001b[0;34m(\u001b[0m\u001b[0my_score\u001b[0m\u001b[0;34m)\u001b[0m\u001b[0;34m\u001b[0m\u001b[0;34m\u001b[0m\u001b[0m\n",
      "\u001b[0;32m~/.local/lib/python3.8/site-packages/sklearn/utils/validation.py\u001b[0m in \u001b[0;36mcolumn_or_1d\u001b[0;34m(y, warn)\u001b[0m\n\u001b[1;32m   1036\u001b[0m         \u001b[0;32mreturn\u001b[0m \u001b[0mnp\u001b[0m\u001b[0;34m.\u001b[0m\u001b[0mravel\u001b[0m\u001b[0;34m(\u001b[0m\u001b[0my\u001b[0m\u001b[0;34m)\u001b[0m\u001b[0;34m\u001b[0m\u001b[0;34m\u001b[0m\u001b[0m\n\u001b[1;32m   1037\u001b[0m \u001b[0;34m\u001b[0m\u001b[0m\n\u001b[0;32m-> 1038\u001b[0;31m     raise ValueError(\n\u001b[0m\u001b[1;32m   1039\u001b[0m         \u001b[0;34m\"y should be a 1d array, got an array of shape {} instead.\"\u001b[0m\u001b[0;34m.\u001b[0m\u001b[0mformat\u001b[0m\u001b[0;34m(\u001b[0m\u001b[0mshape\u001b[0m\u001b[0;34m)\u001b[0m\u001b[0;34m\u001b[0m\u001b[0;34m\u001b[0m\u001b[0m\n\u001b[1;32m   1040\u001b[0m     )\n",
      "\u001b[0;31mValueError\u001b[0m: y should be a 1d array, got an array of shape (32335, 2) instead."
     ]
    }
   ],
   "source": [
    "y_binary_test_binarize = label_binarize(y_binary_test, classes=list(set(y_binary_test)))\n",
    "y_binary_binarize_test_pred = clf.predict_proba(X_test)\n",
    "\n",
    "\n",
    "fpr, tpr, thresholds = roc_curve(y_binary_test, y_binary_binarize_test_pred)"
   ]
  },
  {
   "cell_type": "code",
   "execution_count": 192,
   "id": "ae047a27-db0e-4d42-bd29-c2256d781ea4",
   "metadata": {},
   "outputs": [
    {
     "data": {
      "image/png": "[encoded data removed]",
      "text/plain": [
       "<Figure size 432x288 with 1 Axes>"
      ]
     },
     "metadata": {
      "needs_background": "light"
     },
     "output_type": "display_data"
    }
   ],
   "source": [
    "plt.scatter(thresholds,np.abs(fpr+tpr-1))\n",
    "plt.xlabel(\"Threshold\")\n",
    "plt.ylabel(\"|FPR + TPR - 1|\")\n",
    "plt.show()"
   ]
  },
  {
   "cell_type": "code",
   "execution_count": null,
   "id": "db1e4919-f9fe-4c3a-a1b1-6a033834b411",
   "metadata": {},
   "outputs": [],
   "source": []
  },
  {
   "cell_type": "code",
   "execution_count": null,
   "id": "8777aa50-2ed7-4301-824e-f48b0b54308d",
   "metadata": {},
   "outputs": [],
   "source": []
  },
  {
   "cell_type": "code",
   "execution_count": null,
   "id": "2a5e872c-c274-4ce2-8e0d-a13c68946131",
   "metadata": {},
   "outputs": [],
   "source": []
  },
  {
   "cell_type": "code",
   "execution_count": null,
   "id": "aeb78fdf-0a5e-469a-a8d8-8c894bc08558",
   "metadata": {},
   "outputs": [],
   "source": []
  },
  {
   "cell_type": "code",
   "execution_count": 71,
   "id": "4e23e4da-634f-46f4-b889-6ac101e8d434",
   "metadata": {},
   "outputs": [
    {
     "data": {
      "text/plain": [
       "array([[False, False, False, False, False, False, False, False, False,\n",
       "        False, False]])"
      ]
     },
     "execution_count": 71,
     "metadata": {},
     "output_type": "execute_result"
    }
   ],
   "source": [
    "clf.predict_proba(X_test[:1]) > 0.9"
   ]
  },
  {
   "cell_type": "code",
   "execution_count": 53,
   "id": "16c70cfd-4b93-418a-9ff1-63f843bd529f",
   "metadata": {},
   "outputs": [
    {
     "ename": "ValueError",
     "evalue": "multiclass format is not supported",
     "output_type": "error",
     "traceback": [
      "\u001b[0;31m---------------------------------------------------------------------------\u001b[0m",
      "\u001b[0;31mValueError\u001b[0m                                Traceback (most recent call last)",
      "\u001b[0;32m/tmp/ipykernel_87392/2292947747.py\u001b[0m in \u001b[0;36m<module>\u001b[0;34m\u001b[0m\n\u001b[1;32m      1\u001b[0m \u001b[0my_test_predict_probabilities\u001b[0m \u001b[0;34m=\u001b[0m \u001b[0mclf\u001b[0m\u001b[0;34m.\u001b[0m\u001b[0mpredict_proba\u001b[0m\u001b[0;34m(\u001b[0m\u001b[0mX_test\u001b[0m\u001b[0;34m)\u001b[0m\u001b[0;34m\u001b[0m\u001b[0;34m\u001b[0m\u001b[0m\n\u001b[0;32m----> 2\u001b[0;31m \u001b[0mfpr\u001b[0m\u001b[0;34m,\u001b[0m \u001b[0mtpr\u001b[0m\u001b[0;34m,\u001b[0m \u001b[0m_\u001b[0m \u001b[0;34m=\u001b[0m \u001b[0mroc_curve\u001b[0m\u001b[0;34m(\u001b[0m\u001b[0my_test\u001b[0m\u001b[0;34m,\u001b[0m \u001b[0my_test_predict_probabilities\u001b[0m\u001b[0;34m)\u001b[0m\u001b[0;34m\u001b[0m\u001b[0;34m\u001b[0m\u001b[0m\n\u001b[0m",
      "\u001b[0;32m~/.local/lib/python3.8/site-packages/sklearn/metrics/_ranking.py\u001b[0m in \u001b[0;36mroc_curve\u001b[0;34m(y_true, y_score, pos_label, sample_weight, drop_intermediate)\u001b[0m\n\u001b[1;32m    960\u001b[0m \u001b[0;34m\u001b[0m\u001b[0m\n\u001b[1;32m    961\u001b[0m     \"\"\"\n\u001b[0;32m--> 962\u001b[0;31m     fps, tps, thresholds = _binary_clf_curve(\n\u001b[0m\u001b[1;32m    963\u001b[0m         \u001b[0my_true\u001b[0m\u001b[0;34m,\u001b[0m \u001b[0my_score\u001b[0m\u001b[0;34m,\u001b[0m \u001b[0mpos_label\u001b[0m\u001b[0;34m=\u001b[0m\u001b[0mpos_label\u001b[0m\u001b[0;34m,\u001b[0m \u001b[0msample_weight\u001b[0m\u001b[0;34m=\u001b[0m\u001b[0msample_weight\u001b[0m\u001b[0;34m\u001b[0m\u001b[0;34m\u001b[0m\u001b[0m\n\u001b[1;32m    964\u001b[0m     )\n",
      "\u001b[0;32m~/.local/lib/python3.8/site-packages/sklearn/metrics/_ranking.py\u001b[0m in \u001b[0;36m_binary_clf_curve\u001b[0;34m(y_true, y_score, pos_label, sample_weight)\u001b[0m\n\u001b[1;32m    729\u001b[0m     \u001b[0my_type\u001b[0m \u001b[0;34m=\u001b[0m \u001b[0mtype_of_target\u001b[0m\u001b[0;34m(\u001b[0m\u001b[0my_true\u001b[0m\u001b[0;34m)\u001b[0m\u001b[0;34m\u001b[0m\u001b[0;34m\u001b[0m\u001b[0m\n\u001b[1;32m    730\u001b[0m     \u001b[0;32mif\u001b[0m \u001b[0;32mnot\u001b[0m \u001b[0;34m(\u001b[0m\u001b[0my_type\u001b[0m \u001b[0;34m==\u001b[0m \u001b[0;34m\"binary\"\u001b[0m \u001b[0;32mor\u001b[0m \u001b[0;34m(\u001b[0m\u001b[0my_type\u001b[0m \u001b[0;34m==\u001b[0m \u001b[0;34m\"multiclass\"\u001b[0m \u001b[0;32mand\u001b[0m \u001b[0mpos_label\u001b[0m \u001b[0;32mis\u001b[0m \u001b[0;32mnot\u001b[0m \u001b[0;32mNone\u001b[0m\u001b[0;34m)\u001b[0m\u001b[0;34m)\u001b[0m\u001b[0;34m:\u001b[0m\u001b[0;34m\u001b[0m\u001b[0;34m\u001b[0m\u001b[0m\n\u001b[0;32m--> 731\u001b[0;31m         \u001b[0;32mraise\u001b[0m \u001b[0mValueError\u001b[0m\u001b[0;34m(\u001b[0m\u001b[0;34m\"{0} format is not supported\"\u001b[0m\u001b[0;34m.\u001b[0m\u001b[0mformat\u001b[0m\u001b[0;34m(\u001b[0m\u001b[0my_type\u001b[0m\u001b[0;34m)\u001b[0m\u001b[0;34m)\u001b[0m\u001b[0;34m\u001b[0m\u001b[0;34m\u001b[0m\u001b[0m\n\u001b[0m\u001b[1;32m    732\u001b[0m \u001b[0;34m\u001b[0m\u001b[0m\n\u001b[1;32m    733\u001b[0m     \u001b[0mcheck_consistent_length\u001b[0m\u001b[0;34m(\u001b[0m\u001b[0my_true\u001b[0m\u001b[0;34m,\u001b[0m \u001b[0my_score\u001b[0m\u001b[0;34m,\u001b[0m \u001b[0msample_weight\u001b[0m\u001b[0;34m)\u001b[0m\u001b[0;34m\u001b[0m\u001b[0;34m\u001b[0m\u001b[0m\n",
      "\u001b[0;31mValueError\u001b[0m: multiclass format is not supported"
     ]
    }
   ],
   "source": [
    "y_test_predict_probabilities = clf.predict_proba(X_test)\n",
    "fpr, tpr, _ = roc_curve(y_test, y_test_predict_probabilities)"
   ]
  },
  {
   "cell_type": "code",
   "execution_count": 152,
   "id": "90dca9b4-423c-48c7-9f4c-621f82b21a00",
   "metadata": {},
   "outputs": [
    {
     "data": {
      "text/plain": [
       "0.9821499100195621"
      ]
     },
     "execution_count": 152,
     "metadata": {},
     "output_type": "execute_result"
    }
   ],
   "source": [
    "from sklearn.metrics import roc_curve, auc, roc_auc_score\n",
    "from numpy import argmax\n",
    "\n",
    "y_test_predict_probabilities = clf.predict_proba(X_test)\n",
    "\n",
    "roc_auc_score(y_test, y_test_predict_probabilities, multi_class = 'ovr')\n",
    "\n",
    "# # calculate roc curves\n",
    "# for class_ in list(set(y_test)):\n",
    "#     print(class_, le.classes_[class_])\n",
    "# #     fpr, tpr, thresholds = roc_curve(y_test, y_test_pred, pos_label = class_)\n",
    "    \n",
    "#     fpr, tpr, _ = roc_curve(y_test, y_test_predict_probabilities, pos_label = class_)\n",
    "#     # get the best threshold\n",
    "#     J = tpr - fpr\n",
    "#     ix = argmax(J)\n",
    "#     best_thresh = thresholds[ix]\n",
    "#     print('Best Threshold=%f' % (best_thresh))"
   ]
  },
  {
   "cell_type": "code",
   "execution_count": 86,
   "id": "f464a7c1-b6fc-401c-ba32-64e8a0ee1e8a",
   "metadata": {},
   "outputs": [
    {
     "name": "stdout",
     "output_type": "stream",
     "text": [
      "ADHD 0\n"
     ]
    },
    {
     "data": {
      "image/png": "[encoded data removed]",
      "text/plain": [
       "<Figure size 432x288 with 1 Axes>"
      ]
     },
     "metadata": {
      "needs_background": "light"
     },
     "output_type": "display_data"
    },
    {
     "name": "stdout",
     "output_type": "stream",
     "text": [
      "Acne 1\n"
     ]
    },
    {
     "data": {
      "image/png": "[encoded data removed]",
      "text/plain": [
       "<Figure size 432x288 with 1 Axes>"
      ]
     },
     "metadata": {
      "needs_background": "light"
     },
     "output_type": "display_data"
    },
    {
     "name": "stdout",
     "output_type": "stream",
     "text": [
      "Anxiety 2\n"
     ]
    },
    {
     "data": {
      "image/png": "[encoded data removed]",
      "text/plain": [
       "<Figure size 432x288 with 1 Axes>"
      ]
     },
     "metadata": {
      "needs_background": "light"
     },
     "output_type": "display_data"
    },
    {
     "name": "stdout",
     "output_type": "stream",
     "text": [
      "Bipolar Disorde 3\n"
     ]
    },
    {
     "data": {
      "image/png": "[encoded data removed]",
      "text/plain": [
       "<Figure size 432x288 with 1 Axes>"
      ]
     },
     "metadata": {
      "needs_background": "light"
     },
     "output_type": "display_data"
    },
    {
     "name": "stdout",
     "output_type": "stream",
     "text": [
      "Birth Control 4\n"
     ]
    },
    {
     "data": {
      "image/png": "[encoded data removed]",
      "text/plain": [
       "<Figure size 432x288 with 1 Axes>"
      ]
     },
     "metadata": {
      "needs_background": "light"
     },
     "output_type": "display_data"
    },
    {
     "name": "stdout",
     "output_type": "stream",
     "text": [
      "Depression 5\n"
     ]
    },
    {
     "data": {
      "image/png": "[encoded data removed]",
      "text/plain": [
       "<Figure size 432x288 with 1 Axes>"
      ]
     },
     "metadata": {
      "needs_background": "light"
     },
     "output_type": "display_data"
    },
    {
     "name": "stdout",
     "output_type": "stream",
     "text": [
      "Insomnia 6\n"
     ]
    },
    {
     "data": {
      "image/png": "[encoded data removed]",
      "text/plain": [
       "<Figure size 432x288 with 1 Axes>"
      ]
     },
     "metadata": {
      "needs_background": "light"
     },
     "output_type": "display_data"
    },
    {
     "name": "stdout",
     "output_type": "stream",
     "text": [
      "OTHERS 7\n"
     ]
    },
    {
     "data": {
      "image/png": "[encoded data removed]",
      "text/plain": [
       "<Figure size 432x288 with 1 Axes>"
      ]
     },
     "metadata": {
      "needs_background": "light"
     },
     "output_type": "display_data"
    },
    {
     "name": "stdout",
     "output_type": "stream",
     "text": [
      "Obesity 8\n"
     ]
    },
    {
     "data": {
      "image/png": "[encoded data removed]",
      "text/plain": [
       "<Figure size 432x288 with 1 Axes>"
      ]
     },
     "metadata": {
      "needs_background": "light"
     },
     "output_type": "display_data"
    },
    {
     "name": "stdout",
     "output_type": "stream",
     "text": [
      "Pain 9\n"
     ]
    },
    {
     "data": {
      "image/png": "[encoded data removed]",
      "text/plain": [
       "<Figure size 432x288 with 1 Axes>"
      ]
     },
     "metadata": {
      "needs_background": "light"
     },
     "output_type": "display_data"
    },
    {
     "name": "stdout",
     "output_type": "stream",
     "text": [
      "Weight Loss 10\n"
     ]
    },
    {
     "data": {
      "image/png": "[encoded data removed]",
      "text/plain": [
       "<Figure size 432x288 with 1 Axes>"
      ]
     },
     "metadata": {
      "needs_background": "light"
     },
     "output_type": "display_data"
    }
   ],
   "source": [
    "# Compute ROC curve and ROC area for each class\n",
    "from sklearn.preprocessing import label_binarize\n",
    "from sklearn.metrics import roc_curve, auc\n",
    "\n",
    "y_test_binarize = label_binarize(y_test, classes=list(set(y_test)))\n",
    "\n",
    "\n",
    "fpr = dict()\n",
    "tpr = dict()\n",
    "roc_auc = dict()\n",
    "for i in range(11):\n",
    "    fpr[i], tpr[i], _ = roc_curve(y_test_binarize[:, i], y_test_predict_probabilities[:, i])\n",
    "    roc_auc[i] = auc(fpr[i], tpr[i])\n",
    "\n",
    "# Plot of a ROC curve for a specific class\n",
    "for i in range(11):\n",
    "    print(le.classes_[i], i)\n",
    "    plt.figure()\n",
    "    plt.plot(fpr[i], tpr[i], label='ROC curve (area = %0.2f)' % roc_auc[i])\n",
    "    plt.plot([0, 1], [0, 1], 'k--')\n",
    "    plt.xlim([0.0, 1.0])\n",
    "    plt.ylim([0.0, 1.05])\n",
    "    plt.xlabel('False Positive Rate')\n",
    "    plt.ylabel('True Positive Rate')\n",
    "    plt.title('Receiver operating characteristic example')\n",
    "    plt.legend(loc=\"lower right\")\n",
    "    plt.show()\n",
    "    \n"
   ]
  },
  {
   "cell_type": "code",
   "execution_count": 59,
   "id": "2e93b8b1-443f-4d94-855c-235dad002d05",
   "metadata": {},
   "outputs": [
    {
     "data": {
      "text/plain": [
       "array([5.59e-05, 2.08e-04, 3.20e-04, ..., 7.64e-05, 2.74e-05, 2.53e-04])"
      ]
     },
     "execution_count": 59,
     "metadata": {},
     "output_type": "execute_result"
    }
   ],
   "source": [
    "y_test_predict_probabilities[:, i]"
   ]
  },
  {
   "cell_type": "code",
   "execution_count": 85,
   "id": "ed7bad4a-bf93-4a6f-b8d2-0954bf0edb56",
   "metadata": {},
   "outputs": [
    {
     "data": {
      "text/plain": [
       "7"
      ]
     },
     "execution_count": 85,
     "metadata": {},
     "output_type": "execute_result"
    }
   ],
   "source": [
    "y_test[90]"
   ]
  },
  {
   "cell_type": "code",
   "execution_count": 65,
   "id": "da8124f4-2b90-48ff-8e12-e06170b8c3aa",
   "metadata": {},
   "outputs": [
    {
     "data": {
      "text/plain": [
       "array([0, 0, 0, 0, 0, 0, 0, 0, 0, 1, 0])"
      ]
     },
     "execution_count": 65,
     "metadata": {},
     "output_type": "execute_result"
    }
   ],
   "source": [
    "from sklearn.preprocessing import label_binarize\n",
    "\n",
    "label_binarize(y_test, classes=list(set(y_test)))[0]\n"
   ]
  },
  {
   "cell_type": "code",
   "execution_count": 83,
   "id": "72f40c86-3d7b-4a32-816b-957ba4645a60",
   "metadata": {},
   "outputs": [
    {
     "data": {
      "text/plain": [
       "(7,\n",
       " array([7.81e-04, 1.19e-03, 9.05e-04, 3.46e-04, 3.28e-04, 8.08e-04,\n",
       "        4.09e-05, 9.95e-01, 5.37e-05, 6.00e-05, 1.30e-06]))"
      ]
     },
     "execution_count": 83,
     "metadata": {},
     "output_type": "execute_result"
    }
   ],
   "source": [
    "argmax(y_test_predict_probabilities[90]), y_test_predict_probabilities[90]"
   ]
  },
  {
   "cell_type": "code",
   "execution_count": 161,
   "id": "37bfc695-b4b5-4e99-86f3-9b9c6d50c384",
   "metadata": {},
   "outputs": [
    {
     "name": "stdout",
     "output_type": "stream",
     "text": [
      "[5.59e-05 1.97e-05 7.48e-05 3.29e-06 1.38e-02 3.33e-05 1.96e-07 4.53e-01\n",
      " 4.51e-06 5.33e-01 7.90e-06] 9\n"
     ]
    }
   ],
   "source": [
    "for i in range(len(y_test)):\n",
    "    print(y_test_predict_probabilities[i], argmax(y_test_predict_probabilities[i]))\n",
    "    break"
   ]
  },
  {
   "cell_type": "code",
   "execution_count": 163,
   "id": "38cf05ce-0082-44ef-ae3a-e4dab2847b0b",
   "metadata": {},
   "outputs": [
    {
     "data": {
      "text/plain": [
       "(0.533, 9)"
      ]
     },
     "execution_count": 163,
     "metadata": {},
     "output_type": "execute_result"
    }
   ],
   "source": [
    "5.33e-01, y_test[0]"
   ]
  },
  {
   "cell_type": "code",
   "execution_count": 149,
   "id": "daff5e87-362e-455e-bfde-83b14012278f",
   "metadata": {},
   "outputs": [],
   "source": [
    "y_pred_by_threshold = []\n",
    "\n",
    "for i in range(len(y_test)):\n",
    "    a = argmax(y_test_predict_probabilities[i] > 0.3) if np.any((y_test_predict_probabilities[i] >= 0.3) == True) else 7\n",
    "    y_pred_by_threshold.append(a)\n",
    "    "
   ]
  },
  {
   "cell_type": "code",
   "execution_count": 141,
   "id": "0355d21e-1924-4276-91c6-bffc014dc61f",
   "metadata": {},
   "outputs": [
    {
     "data": {
      "text/plain": [
       "(array([ 9,  9,  7,  4,  5,  7,  7, 10,  3,  7]),\n",
       " [7, 9, 7, 4, 7, 7, 7, 7, 7, 7])"
      ]
     },
     "execution_count": 141,
     "metadata": {},
     "output_type": "execute_result"
    }
   ],
   "source": [
    "y_test[:10], y_pred_by_threshold[:10]"
   ]
  },
  {
   "cell_type": "code",
   "execution_count": null,
   "id": "514fea37-2303-4ca8-9518-47548bee6640",
   "metadata": {},
   "outputs": [],
   "source": []
  },
  {
   "cell_type": "code",
   "execution_count": 134,
   "id": "3c5df3a5-e9e1-422c-9efa-829c70b3901e",
   "metadata": {},
   "outputs": [
    {
     "data": {
      "text/plain": [
       "False"
      ]
     },
     "execution_count": 134,
     "metadata": {},
     "output_type": "execute_result"
    }
   ],
   "source": [
    "np.any((y_test_predict_probabilities[0] >= 0.97) == True)"
   ]
  },
  {
   "cell_type": "code",
   "execution_count": 125,
   "id": "61363ea6-3d44-4270-ac6d-01ab76b40f4b",
   "metadata": {},
   "outputs": [
    {
     "data": {
      "text/plain": [
       "0"
      ]
     },
     "execution_count": 125,
     "metadata": {},
     "output_type": "execute_result"
    }
   ],
   "source": [
    "argmax(y_test_predict_probabilities[0] >= 0.97)"
   ]
  },
  {
   "cell_type": "code",
   "execution_count": 136,
   "id": "cd313b66-362a-4910-a1ba-37a7019ed0e5",
   "metadata": {},
   "outputs": [
    {
     "data": {
      "text/plain": [
       "9"
      ]
     },
     "execution_count": 136,
     "metadata": {},
     "output_type": "execute_result"
    }
   ],
   "source": [
    "argmax(y_test_predict_probabilities[1] > 0.97) if np.any((y_test_predict_probabilities[1] >= 0.97) == True) else 7"
   ]
  },
  {
   "cell_type": "code",
   "execution_count": 106,
   "id": "d8cc5566-27f6-456d-bf6d-dd6da609ad9c",
   "metadata": {},
   "outputs": [
    {
     "data": {
      "text/plain": [
       "True"
      ]
     },
     "execution_count": 106,
     "metadata": {},
     "output_type": "execute_result"
    }
   ],
   "source": [
    "y_test_predict_probabilities[13].any() >= 0.97"
   ]
  },
  {
   "cell_type": "code",
   "execution_count": 29,
   "id": "4fcc3cfc-1564-44c3-b14b-c53ca382d324",
   "metadata": {},
   "outputs": [
    {
     "name": "stdout",
     "output_type": "stream",
     "text": [
      "Defaulting to user installation because normal site-packages is not writeable\n",
      "Collecting xgboost\n",
      "  Downloading xgboost-1.5.2-py3-none-macosx_10_15_x86_64.macosx_11_0_x86_64.macosx_12_0_x86_64.whl (1.3 MB)\n",
      "\u001b[K     |████████████████████████████████| 1.3 MB 1.3 MB/s eta 0:00:01\n",
      "\u001b[?25hRequirement already satisfied: scipy in /Applications/JupyterLab.app/Contents/Resources/jlab_server/lib/python3.8/site-packages (from xgboost) (1.7.1)\n",
      "Requirement already satisfied: numpy in /Applications/JupyterLab.app/Contents/Resources/jlab_server/lib/python3.8/site-packages (from xgboost) (1.21.2)\n",
      "Installing collected packages: xgboost\n",
      "Successfully installed xgboost-1.5.2\n"
     ]
    }
   ],
   "source": [
    "# !pip install lightgbm\n",
    "!pip install xgboost"
   ]
  },
  {
   "cell_type": "code",
   "execution_count": 42,
   "id": "c30a56a4-258c-41d6-91e0-58d725aeab7e",
   "metadata": {},
   "outputs": [],
   "source": [
    "import lightgbm as lgb "
   ]
  },
  {
   "cell_type": "code",
   "execution_count": 43,
   "id": "ed98e3d5-695f-4e1e-a6d9-b91a0adaf79c",
   "metadata": {},
   "outputs": [
    {
     "data": {
      "text/plain": [
       "<lightgbm.basic.Dataset at 0x7f89ca59c7c0>"
      ]
     },
     "execution_count": 43,
     "metadata": {},
     "output_type": "execute_result"
    }
   ],
   "source": [
    "train_data = lgb.Dataset(X_train,label=y_train)\n",
    "train_data"
   ]
  },
  {
   "cell_type": "code",
   "execution_count": 44,
   "id": "bd9a9e6f-265a-4a9d-ae67-f16f5ddf4476",
   "metadata": {},
   "outputs": [],
   "source": [
    "param = {'num_leaves':150, 'objective':'multiclass', 'num_class': 11, 'max_depth':7, 'learning_rate':.05, 'max_bin':200}\n",
    "param['metric'] = ['multi_logloss']\n"
   ]
  },
  {
   "cell_type": "code",
   "execution_count": null,
   "id": "d84978dc-3a81-4aa2-8cf8-71f5d7ba7e67",
   "metadata": {},
   "outputs": [],
   "source": [
    "num_round = 1\n",
    "lgbm = lgb.train(param, train_data, num_round)\n"
   ]
  },
  {
   "cell_type": "code",
   "execution_count": null,
   "id": "e49b082c-bcc2-40cc-82b2-b3601d36dde6",
   "metadata": {},
   "outputs": [],
   "source": [
    "ypred2=lgbm.predict(x_test)"
   ]
  },
  {
   "cell_type": "code",
   "execution_count": null,
   "id": "e6676077-66f9-4e8e-8ffa-7f9a754d6cc7",
   "metadata": {},
   "outputs": [],
   "source": []
  },
  {
   "cell_type": "code",
   "execution_count": 172,
   "id": "4e2eb1b6-97d6-41c9-89aa-f956eab38f76",
   "metadata": {},
   "outputs": [
    {
     "data": {
      "text/plain": [
       "array([1, 1, 0, ..., 0, 0, 0])"
      ]
     },
     "execution_count": 172,
     "metadata": {},
     "output_type": "execute_result"
    }
   ],
   "source": [
    "y_test"
   ]
  },
  {
   "cell_type": "code",
   "execution_count": 167,
   "id": "14fdc0aa-a1e3-40a2-99c3-5b12406dacf5",
   "metadata": {},
   "outputs": [],
   "source": [
    "y_test_binary = y_test"
   ]
  },
  {
   "cell_type": "code",
   "execution_count": 170,
   "id": "1a53baf9-e9bb-42d1-88a0-3e17f55e4f53",
   "metadata": {},
   "outputs": [],
   "source": [
    "y_test_binary[y_test_binary != 7] = 1\n",
    "y_test_binary[y_test_binary == 7] = 0"
   ]
  },
  {
   "cell_type": "code",
   "execution_count": 171,
   "id": "6a520081-0f69-480e-8d7e-7841a1f65916",
   "metadata": {},
   "outputs": [
    {
     "data": {
      "text/plain": [
       "array([1, 1, 0, ..., 0, 0, 0])"
      ]
     },
     "execution_count": 171,
     "metadata": {},
     "output_type": "execute_result"
    }
   ],
   "source": [
    "y_test_binary"
   ]
  },
  {
   "cell_type": "code",
   "execution_count": null,
   "id": "2f20ff6b-31ec-4796-b39d-4916d90bfb6b",
   "metadata": {},
   "outputs": [],
   "source": []
  },
  {
   "cell_type": "code",
   "execution_count": null,
   "id": "07bc35c0-9a5c-4263-b527-46ae79e19d7e",
   "metadata": {},
   "outputs": [],
   "source": []
  },
  {
   "cell_type": "code",
   "execution_count": 158,
   "id": "9d626cb0-5621-473c-a373-e8d0a2883f7b",
   "metadata": {},
   "outputs": [
    {
     "data": {
      "image/png": "[encoded data removed]",
      "text/plain": [
       "<Figure size 432x288 with 1 Axes>"
      ]
     },
     "metadata": {
      "needs_background": "light"
     },
     "output_type": "display_data"
    }
   ],
   "source": [
    "# First aggregate all false positive rates\n",
    "\n",
    "n_classes = 11\n",
    "\n",
    "# Compute ROC curve and ROC area for each class\n",
    "fpr = dict()\n",
    "tpr = dict()\n",
    "roc_auc = dict()\n",
    "for i in range(n_classes):\n",
    "    fpr[i], tpr[i], _ = roc_curve(y_test_binarize[:, i], y_test_predict_probabilities[:, i])\n",
    "    roc_auc[i] = auc(fpr[i], tpr[i])\n",
    "\n",
    "# Compute micro-average ROC curve and ROC area\n",
    "fpr[\"micro\"], tpr[\"micro\"], _ = roc_curve(y_test_binarize.ravel(), y_test_predict_probabilities.ravel())\n",
    "roc_auc[\"micro\"] = auc(fpr[\"micro\"], tpr[\"micro\"])\n",
    "\n",
    "all_fpr = np.unique(np.concatenate([fpr[i] for i in range(n_classes)]))\n",
    "\n",
    "# Then interpolate all ROC curves at this points\n",
    "mean_tpr = np.zeros_like(all_fpr)\n",
    "for i in range(n_classes):\n",
    "    mean_tpr += np.interp(all_fpr, fpr[i], tpr[i])\n",
    "\n",
    "# Finally average it and compute AUC\n",
    "mean_tpr /= n_classes\n",
    "\n",
    "fpr[\"macro\"] = all_fpr\n",
    "tpr[\"macro\"] = mean_tpr\n",
    "roc_auc[\"macro\"] = auc(fpr[\"macro\"], tpr[\"macro\"])\n",
    "\n",
    "# Plot all ROC curves\n",
    "plt.figure()\n",
    "plt.plot(\n",
    "    fpr[\"micro\"],\n",
    "    tpr[\"micro\"],\n",
    "    label=\"micro-average ROC curve (area = {0:0.2f})\".format(roc_auc[\"micro\"]),\n",
    "    color=\"deeppink\",\n",
    "    linestyle=\":\",\n",
    "    linewidth=4,\n",
    ")\n",
    "\n",
    "plt.plot(\n",
    "    fpr[\"macro\"],\n",
    "    tpr[\"macro\"],\n",
    "    label=\"macro-average ROC curve (area = {0:0.2f})\".format(roc_auc[\"macro\"]),\n",
    "    color=\"navy\",\n",
    "    linestyle=\":\",\n",
    "    linewidth=4,\n",
    ")\n",
    "\n",
    "from itertools import cycle\n",
    "colors = cycle([\"aqua\", \"darkorange\", \"cornflowerblue\", \"blue\", \"yellow\", \"black\", \"red\", \"green\", \"violet\", \"grey\", \"red\"])\n",
    "lw = 2\n",
    "for i, color in zip(range(n_classes), colors):\n",
    "    plt.plot(\n",
    "        fpr[i],\n",
    "        tpr[i],\n",
    "        color=color,\n",
    "        lw=lw,\n",
    "        label=\"ROC curve of class {0} (area = {1:0.2f})\".format(i, roc_auc[i]),\n",
    "    )\n",
    "\n",
    "plt.plot([0, 1], [0, 1], \"k--\", lw=lw)\n",
    "plt.xlim([0.0, 1.0])\n",
    "plt.ylim([0.0, 1.05])\n",
    "plt.xlabel(\"False Positive Rate\")\n",
    "plt.ylabel(\"True Positive Rate\")\n",
    "plt.title(\"Some extension of Receiver operating characteristic to multiclass\")\n",
    "plt.legend(loc=\"lower right\")\n",
    "plt.show()"
   ]
  },
  {
   "cell_type": "code",
   "execution_count": null,
   "id": "e0e1066f-62e8-4464-ae28-7d94e16c9cfa",
   "metadata": {},
   "outputs": [],
   "source": []
  },
  {
   "cell_type": "code",
   "execution_count": 30,
   "id": "ec61f92f-fd8b-4bf2-b73c-69312e0ec77c",
   "metadata": {},
   "outputs": [
    {
     "name": "stderr",
     "output_type": "stream",
     "text": [
      "/Users/kkvp639/.local/lib/python3.8/site-packages/xgboost/compat.py:36: FutureWarning: pandas.Int64Index is deprecated and will be removed from pandas in a future version. Use pandas.Index with the appropriate dtype instead.\n",
      "  from pandas import MultiIndex, Int64Index\n"
     ]
    }
   ],
   "source": [
    "import xgboost as xgb "
   ]
  },
  {
   "cell_type": "code",
   "execution_count": null,
   "id": "f23a16b2-dfb2-4ff3-a07c-15d4bb8bcb4c",
   "metadata": {},
   "outputs": [],
   "source": [
    "dtrain=xgb.DMatrix(X_train,label=y_train)\n",
    "dtest=xgb.DMatrix(X_test)"
   ]
  },
  {
   "cell_type": "code",
   "execution_count": null,
   "id": "0b7d3191-25d1-48f4-a0c7-254399a15d27",
   "metadata": {},
   "outputs": [],
   "source": []
  },
  {
   "cell_type": "code",
   "execution_count": null,
   "id": "b33a34b6-41cb-4c90-bf76-0623c7d9330c",
   "metadata": {},
   "outputs": [],
   "source": []
  },
  {
   "cell_type": "code",
   "execution_count": null,
   "id": "844924a8-d452-49dd-95fe-d2c0aac6e5a5",
   "metadata": {},
   "outputs": [],
   "source": []
  },
  {
   "cell_type": "code",
   "execution_count": null,
   "id": "119cf5b4-55c9-43dc-8717-30b3422f8dad",
   "metadata": {},
   "outputs": [],
   "source": []
  },
  {
   "cell_type": "code",
   "execution_count": null,
   "id": "20d78eaa-acfd-4d44-9f9a-75085bc64da4",
   "metadata": {},
   "outputs": [],
   "source": []
  },
  {
   "cell_type": "code",
   "execution_count": 150,
   "id": "fed31d27-0cff-465c-b0cf-f71c6e5a5205",
   "metadata": {},
   "outputs": [],
   "source": [
    "from sklearn.model_selection import train_test_split\n",
    "X_train, X_test, y_train, y_test = train_test_split(X_scaled, y, test_size=0.33, random_state=25, stratify=y)"
   ]
  },
  {
   "cell_type": "code",
   "execution_count": 151,
   "id": "a87addad-7a3c-43b7-8dae-5eabc125d7c3",
   "metadata": {},
   "outputs": [
    {
     "name": "stderr",
     "output_type": "stream",
     "text": [
      "[Parallel(n_jobs=1)]: Using backend SequentialBackend with 1 concurrent workers.\n",
      "[Parallel(n_jobs=1)]: Done 100 out of 100 | elapsed:   10.4s finished\n",
      "[Parallel(n_jobs=1)]: Using backend SequentialBackend with 1 concurrent workers.\n",
      "[Parallel(n_jobs=1)]: Done 100 out of 100 | elapsed:    3.4s finished\n",
      "[Parallel(n_jobs=1)]: Using backend SequentialBackend with 1 concurrent workers.\n"
     ]
    },
    {
     "name": "stdout",
     "output_type": "stream",
     "text": [
      "Training accuracy:  0.935799681681904\n",
      "Test accuracy:  0.6703676567284751\n",
      "              precision    recall  f1-score   support\n",
      "\n",
      "           0       0.60      0.38      0.46      1844\n",
      "           1       0.49      0.32      0.39      1948\n",
      "           2       0.48      0.41      0.44      1394\n",
      "           3       0.66      0.58      0.62      9500\n",
      "           4       0.62      0.40      0.49      2993\n",
      "           5       0.42      0.30      0.35      1212\n",
      "           6       0.71      0.84      0.77     29941\n",
      "           7       0.64      0.39      0.48      1178\n",
      "           8       0.42      0.36      0.39      2028\n",
      "           9       0.65      0.37      0.48      1191\n",
      "\n",
      "    accuracy                           0.67     53229\n",
      "   macro avg       0.57      0.44      0.49     53229\n",
      "weighted avg       0.66      0.67      0.66     53229\n",
      "\n"
     ]
    },
    {
     "name": "stderr",
     "output_type": "stream",
     "text": [
      "[Parallel(n_jobs=1)]: Done 100 out of 100 | elapsed:    1.6s finished\n"
     ]
    }
   ],
   "source": [
    "from sklearn.linear_model import LogisticRegression\n",
    "from sklearn.ensemble import RandomForestClassifier\n",
    "from sklearn.metrics import accuracy_score\n",
    "from sklearn.metrics import classification_report\n",
    "\n",
    "\n",
    "clf = RandomForestClassifier(random_state=25, class_weight='balanced', verbose=1)\n",
    "clf.fit(X_train, y_train)\n",
    "\n",
    "y_train_pred = clf.predict(X_train)\n",
    "y_test_pred = clf.predict(X_test)\n",
    "\n",
    "print('Training accuracy: ', accuracy_score(y_train, y_train_pred))\n",
    "print('Test accuracy: ', accuracy_score(y_test, y_test_pred))\n",
    "\n",
    "print(classification_report(y_test, y_test_pred))"
   ]
  },
  {
   "cell_type": "code",
   "execution_count": null,
   "id": "8789ab74-f5fe-41aa-bfd5-5a0883e86355",
   "metadata": {},
   "outputs": [],
   "source": []
  },
  {
   "cell_type": "code",
   "execution_count": null,
   "id": "a49cc0a3-0ad2-4c7a-832d-521a076858bf",
   "metadata": {},
   "outputs": [],
   "source": []
  },
  {
   "cell_type": "code",
   "execution_count": 15,
   "id": "d4de7aae-bdf7-4bd4-841f-09aa78305f6f",
   "metadata": {},
   "outputs": [
    {
     "name": "stdout",
     "output_type": "stream",
     "text": [
      "(161297, 1048576)\n"
     ]
    }
   ],
   "source": [
    "from sklearn.feature_extraction.text import HashingVectorizer\n",
    "\n",
    "vectorizer = HashingVectorizer(ngram_range=(1, 3), n_features=2 ** 20)\n",
    "X = vectorizer.fit_transform(df_spacy_vectors[0])\n",
    "print(X.shape)"
   ]
  },
  {
   "cell_type": "code",
   "execution_count": 14,
   "id": "a1b544aa-bb1e-498a-870f-e0be5b6c2b5d",
   "metadata": {},
   "outputs": [
    {
     "ename": "NameError",
     "evalue": "name 'X' is not defined",
     "output_type": "error",
     "traceback": [
      "\u001b[0;31m---------------------------------------------------------------------------\u001b[0m",
      "\u001b[0;31mNameError\u001b[0m                                 Traceback (most recent call last)",
      "\u001b[0;32m/tmp/ipykernel_97004/891552196.py\u001b[0m in \u001b[0;36m<module>\u001b[0;34m\u001b[0m\n\u001b[0;32m----> 1\u001b[0;31m \u001b[0mprint\u001b[0m\u001b[0;34m(\u001b[0m\u001b[0mX\u001b[0m\u001b[0;34m.\u001b[0m\u001b[0mshape\u001b[0m\u001b[0;34m)\u001b[0m\u001b[0;34m\u001b[0m\u001b[0;34m\u001b[0m\u001b[0m\n\u001b[0m",
      "\u001b[0;31mNameError\u001b[0m: name 'X' is not defined"
     ]
    }
   ],
   "source": [
    "print(X.shape)"
   ]
  },
  {
   "cell_type": "code",
   "execution_count": 16,
   "id": "b5416c52-f810-4f32-aa02-bc012c77c805",
   "metadata": {},
   "outputs": [
    {
     "data": {
      "text/plain": [
       "(161297, 6)"
      ]
     },
     "execution_count": 16,
     "metadata": {},
     "output_type": "execute_result"
    }
   ],
   "source": [
    "from sklearn.preprocessing import MinMaxScaler\n",
    "\n",
    "scaler = MinMaxScaler()\n",
    "X_scaled = scaler.fit_transform(df_spacy_vectors.loc[:, 1:])\n",
    "X_scaled.shape"
   ]
  },
  {
   "cell_type": "code",
   "execution_count": 18,
   "id": "16e8b493-9911-4cfb-9979-682de8ae04dd",
   "metadata": {},
   "outputs": [
    {
     "data": {
      "text/plain": [
       "1048582"
      ]
     },
     "execution_count": 18,
     "metadata": {},
     "output_type": "execute_result"
    }
   ],
   "source": [
    "1048576 + 6"
   ]
  },
  {
   "cell_type": "code",
   "execution_count": 17,
   "id": "675c1296-7440-427d-a550-bf9bcc596084",
   "metadata": {},
   "outputs": [
    {
     "data": {
      "text/plain": [
       "<161297x6 sparse matrix of type '<class 'numpy.float64'>'\n",
       "\twith 905274 stored elements in Compressed Sparse Row format>"
      ]
     },
     "execution_count": 17,
     "metadata": {},
     "output_type": "execute_result"
    }
   ],
   "source": [
    "from scipy import sparse\n",
    "sparse_X_scaled = sparse.csr_matrix(X_scaled)\n",
    "sparse_X_scaled"
   ]
  },
  {
   "cell_type": "code",
   "execution_count": 21,
   "id": "0f273ef7-9138-48fb-bd08-8412bbc555b4",
   "metadata": {},
   "outputs": [
    {
     "data": {
      "text/plain": [
       "<161297x1048582 sparse matrix of type '<class 'numpy.float64'>'\n",
       "\twith 33750573 stored elements in COOrdinate format>"
      ]
     },
     "execution_count": 21,
     "metadata": {},
     "output_type": "execute_result"
    }
   ],
   "source": [
    "from scipy.sparse import hstack\n",
    "\n",
    "X1 = hstack((X, sparse_X_scaled))\n",
    "X1"
   ]
  },
  {
   "cell_type": "code",
   "execution_count": 23,
   "id": "faa1ea8b-ab99-44b8-a9dd-d43c935883c0",
   "metadata": {},
   "outputs": [
    {
     "data": {
      "text/plain": [
       "array([6, 6, 3, ..., 6, 6, 6])"
      ]
     },
     "execution_count": 23,
     "metadata": {},
     "output_type": "execute_result"
    }
   ],
   "source": [
    "from sklearn import preprocessing\n",
    "\n",
    "le = preprocessing.LabelEncoder()\n",
    "y = le.fit_transform(df['condition'])\n",
    "y"
   ]
  },
  {
   "cell_type": "code",
   "execution_count": 35,
   "id": "ed997753-3983-46a2-a8d4-77ef81f8053f",
   "metadata": {},
   "outputs": [
    {
     "name": "stdout",
     "output_type": "stream",
     "text": [
      "Fitting 2 classifiers...\n",
      "Fitting classifier1: pipeline (1/2)\n",
      "Pipeline(steps=[('columnselector',\n",
      "                 ColumnSelector(cols=(0, 1, 2, 3, 4, 5, 6, 7, 8, 9, 10, 11, 12,\n",
      "                                      13, 14, 15, 16, 17, 18, 19, 20, 21, 22,\n",
      "                                      23, 24, 25, 26, 27, 28, 29, ...))),\n",
      "                ('linearsvc',\n",
      "                 LinearSVC(class_weight='balanced', random_state=25,\n",
      "                           verbose=1))])\n",
      "[LibLinear]...........*\n",
      "optimization finished, #iter = 115\n",
      "Objective value = -3437.930035\n",
      "nSV = 18283\n",
      "..........*.\n",
      "optimization finished, #iter = 110\n",
      "Objective value = -9407.283496\n",
      "nSV = 36079\n",
      "...............*\n",
      "optimization finished, #iter = 151\n",
      "Objective value = -5975.290573\n",
      "nSV = 30974\n",
      "....*\n",
      "optimization finished, #iter = 44\n",
      "Objective value = -8579.611106\n",
      "nSV = 41859\n",
      ".......*\n",
      "optimization finished, #iter = 77\n",
      "Objective value = -12320.134700\n",
      "nSV = 45761\n",
      "...............*.*\n",
      "optimization finished, #iter = 162\n",
      "Objective value = -4215.657620\n",
      "nSV = 18867\n",
      "....*\n",
      "optimization finished, #iter = 45\n",
      "Objective value = -19725.464867\n",
      "nSV = 122455\n",
      "................**.*\n",
      "optimization finished, #iter = 172\n",
      "Objective value = -5080.096247\n",
      "nSV = 21391\n",
      "..........*\n",
      "optimization finished, #iter = 106\n",
      "Objective value = -8478.309846\n",
      "nSV = 33328\n",
      ".................*\n",
      "optimization finished, #iter = 172\n",
      "Objective value = -4773.368563\n",
      "nSV = 20362\n",
      "Fitting classifier2: pipeline (2/2)\n",
      "Pipeline(steps=[('columnselector',\n",
      "                 ColumnSelector(cols=(1048576, 1048577, 1048578, 1048579,\n",
      "                                      1048580, 1048581))),\n",
      "                ('logisticregression',\n",
      "                 LogisticRegression(class_weight='balanced', n_jobs=-1,\n",
      "                                    random_state=25, verbose=1))])\n"
     ]
    },
    {
     "name": "stderr",
     "output_type": "stream",
     "text": [
      "[Parallel(n_jobs=-1)]: Using backend LokyBackend with 16 concurrent workers.\n"
     ]
    },
    {
     "name": "stdout",
     "output_type": "stream",
     "text": [
      "RUNNING THE L-BFGS-B CODE\n",
      "\n",
      "           * * *\n",
      "\n",
      "Machine precision = 2.220D-16\n",
      " N =           70     M =           10\n",
      "\n",
      "At X0         0 variables are exactly at the bounds\n",
      "\n",
      "At iterate    0    f=  3.71400D+05    |proj g|=  7.05874D+02\n"
     ]
    },
    {
     "name": "stderr",
     "output_type": "stream",
     "text": [
      " This problem is unconstrained.\n"
     ]
    },
    {
     "name": "stdout",
     "output_type": "stream",
     "text": [
      "\n",
      "At iterate   50    f=  3.53954D+05    |proj g|=  3.71408D+02\n",
      "\n",
      "At iterate  100    f=  3.53517D+05    |proj g|=  8.33490D+01\n",
      "\n",
      "           * * *\n",
      "\n",
      "Tit   = total number of iterations\n",
      "Tnf   = total number of function evaluations\n",
      "Tnint = total number of segments explored during Cauchy searches\n",
      "Skip  = number of BFGS updates skipped\n",
      "Nact  = number of active bounds at final generalized Cauchy point\n",
      "Projg = norm of the final projected gradient\n",
      "F     = final function value\n",
      "\n",
      "           * * *\n",
      "\n",
      "   N    Tit     Tnf  Tnint  Skip  Nact     Projg        F\n",
      "   70    100    106      1     0     0   8.335D+01   3.535D+05\n",
      "  F =   353517.03586991294     \n",
      "\n",
      "STOP: TOTAL NO. of ITERATIONS REACHED LIMIT                 \n"
     ]
    },
    {
     "name": "stderr",
     "output_type": "stream",
     "text": [
      "[Parallel(n_jobs=-1)]: Done   1 out of   1 | elapsed:    7.8s finished\n"
     ]
    },
    {
     "name": "stdout",
     "output_type": "stream",
     "text": [
      "[LibLinear]....................................................................................................\n",
      "optimization finished, #iter = 1000\n",
      "\n",
      "WARNING: reaching max number of iterations\n",
      "Using -s 2 may be faster (also see FAQ)\n",
      "\n",
      "Objective value = -2275.502404\n",
      "nSV = 12364\n",
      "....................................................................................................\n",
      "optimization finished, #iter = 1000\n",
      "\n",
      "WARNING: reaching max number of iterations\n",
      "Using -s 2 may be faster (also see FAQ)\n",
      "\n",
      "Objective value = -31185.079298\n",
      "nSV = 47356\n",
      "....................................................................................................\n",
      "optimization finished, #iter = 1000\n",
      "\n",
      "WARNING: reaching max number of iterations\n",
      "Using -s 2 may be faster (also see FAQ)\n",
      "\n",
      "Objective value = -46187.108368\n",
      "nSV = 62691\n",
      "....................................................................................................\n",
      "optimization finished, #iter = 1000\n",
      "\n",
      "WARNING: reaching max number of iterations\n",
      "Using -s 2 may be faster (also see FAQ)\n",
      "\n",
      "Objective value = -49074.060876\n",
      "nSV = 147697\n",
      "."
     ]
    },
    {
     "name": "stderr",
     "output_type": "stream",
     "text": [
      "/Users/kkvp639/.local/lib/python3.8/site-packages/sklearn/linear_model/_logistic.py:814: ConvergenceWarning: lbfgs failed to converge (status=1):\n",
      "STOP: TOTAL NO. of ITERATIONS REACHED LIMIT.\n",
      "\n",
      "Increase the number of iterations (max_iter) or scale the data as shown in:\n",
      "    https://scikit-learn.org/stable/modules/preprocessing.html\n",
      "Please also refer to the documentation for alternative solver options:\n",
      "    https://scikit-learn.org/stable/modules/linear_model.html#logistic-regression\n",
      "  n_iter_i = _check_optimize_result(\n"
     ]
    },
    {
     "name": "stdout",
     "output_type": "stream",
     "text": [
      "...................................................................................................\n",
      "optimization finished, #iter = 1000\n",
      "\n",
      "WARNING: reaching max number of iterations\n",
      "Using -s 2 may be faster (also see FAQ)\n",
      "\n",
      "Objective value = -57047.807247\n",
      "nSV = 161290\n",
      "....................................................................................................\n",
      "optimization finished, #iter = 1000\n",
      "\n",
      "WARNING: reaching max number of iterations\n",
      "Using -s 2 may be faster (also see FAQ)\n",
      "\n",
      "Objective value = -56283.121931\n",
      "nSV = 161291\n",
      "....................................................................................................\n",
      "optimization finished, #iter = 1000\n",
      "\n",
      "WARNING: reaching max number of iterations\n",
      "Using -s 2 may be faster (also see FAQ)\n",
      "\n",
      "Objective value = -45691.960862\n",
      "nSV = 149818\n",
      "....................................................................................................\n",
      "optimization finished, #iter = 1000\n",
      "\n",
      "WARNING: reaching max number of iterations\n",
      "Using -s 2 may be faster (also see FAQ)\n",
      "\n",
      "Objective value = -44990.304656\n",
      "nSV = 100141\n",
      "....................................................................................................\n",
      "optimization finished, #iter = 1000\n",
      "\n",
      "WARNING: reaching max number of iterations\n",
      "Using -s 2 may be faster (also see FAQ)\n",
      "\n",
      "Objective value = -24573.925796\n",
      "nSV = 99919\n",
      "....................................................................................................\n",
      "optimization finished, #iter = 1000\n",
      "\n",
      "WARNING: reaching max number of iterations\n",
      "Using -s 2 may be faster (also see FAQ)\n",
      "\n",
      "Objective value = -505.551828\n",
      "nSV = 10471\n"
     ]
    },
    {
     "name": "stderr",
     "output_type": "stream",
     "text": [
      "/Users/kkvp639/.local/lib/python3.8/site-packages/sklearn/svm/_base.py:1206: ConvergenceWarning: Liblinear failed to converge, increase the number of iterations.\n",
      "  warnings.warn(\n"
     ]
    },
    {
     "data": {
      "text/plain": [
       "StackingClassifier(classifiers=[Pipeline(steps=[('columnselector',\n",
       "                                                 ColumnSelector(cols=(0, 1, 2,\n",
       "                                                                      3, 4, 5,\n",
       "                                                                      6, 7, 8,\n",
       "                                                                      9, 10, 11,\n",
       "                                                                      12, 13,\n",
       "                                                                      14, 15,\n",
       "                                                                      16, 17,\n",
       "                                                                      18, 19,\n",
       "                                                                      20, 21,\n",
       "                                                                      22, 23,\n",
       "                                                                      24, 25,\n",
       "                                                                      26, 27,\n",
       "                                                                      28, 29, ...))),\n",
       "                                                ('linearsvc',\n",
       "                                                 LinearSVC(class_weight='balanced',\n",
       "                                                           random_state=25,\n",
       "                                                           verbose=1))]),\n",
       "                                Pipeline(steps=[('columnselector',\n",
       "                                                 ColumnSelector(cols=(1048576,\n",
       "                                                                      1048577,\n",
       "                                                                      1048578,\n",
       "                                                                      1048579,\n",
       "                                                                      1048580,\n",
       "                                                                      1048581))),\n",
       "                                                ('logisticregression',\n",
       "                                                 LogisticRegression(class_weight='balanced',\n",
       "                                                                    n_jobs=-1,\n",
       "                                                                    random_state=25,\n",
       "                                                                    verbose=1))])],\n",
       "                   meta_classifier=LinearSVC(class_weight='balanced',\n",
       "                                             random_state=25, verbose=1),\n",
       "                   verbose=2)"
      ]
     },
     "execution_count": 35,
     "metadata": {},
     "output_type": "execute_result"
    }
   ],
   "source": [
    "from mlxtend.classifier import StackingClassifier\n",
    "from mlxtend.feature_selection import ColumnSelector\n",
    "from sklearn.pipeline import make_pipeline\n",
    "from sklearn.linear_model import LogisticRegression\n",
    "from sklearn.svm import LinearSVC\n",
    "\n",
    "pipe1 = make_pipeline(ColumnSelector(cols=tuple(range(0, 1048576))),\n",
    "                      LinearSVC(class_weight='balanced', random_state=25, verbose=1))\n",
    "pipe2 = make_pipeline(ColumnSelector(cols=tuple(range(1048576, 1048582))),\n",
    "                      LogisticRegression(class_weight='balanced', random_state=25, n_jobs=-1, verbose=1))\n",
    "\n",
    "sclf = StackingClassifier(classifiers=[pipe1, pipe2], \n",
    "                          meta_classifier=LinearSVC(class_weight='balanced', random_state=25, verbose=1),\n",
    "                         verbose=2)\n",
    "\n",
    "sclf.fit(X1.tocsr(), y)"
   ]
  },
  {
   "cell_type": "code",
   "execution_count": 36,
   "id": "ed727863-fef3-4f30-b4de-5f5dfc7280c5",
   "metadata": {},
   "outputs": [
    {
     "data": {
      "text/plain": [
       "0.8090541051600464"
      ]
     },
     "execution_count": 36,
     "metadata": {},
     "output_type": "execute_result"
    },
    {
     "name": "stderr",
     "output_type": "stream",
     "text": [
      "/Users/kkvp639/.local/lib/python3.8/site-packages/sklearn/linear_model/_logistic.py:814: ConvergenceWarning: lbfgs failed to converge (status=1):\n",
      "STOP: TOTAL NO. of ITERATIONS REACHED LIMIT.\n",
      "\n",
      "Increase the number of iterations (max_iter) or scale the data as shown in:\n",
      "    https://scikit-learn.org/stable/modules/preprocessing.html\n",
      "Please also refer to the documentation for alternative solver options:\n",
      "    https://scikit-learn.org/stable/modules/linear_model.html#logistic-regression\n",
      "  n_iter_i = _check_optimize_result(\n"
     ]
    }
   ],
   "source": [
    "from sklearn.metrics import accuracy_score\n",
    "\n",
    "y_pred = sclf.predict(X1.tocsr())\n",
    "\n",
    "accuracy_score(y, y_pred)"
   ]
  },
  {
   "cell_type": "code",
   "execution_count": null,
   "id": "d78d6a42-d868-48cf-9518-da9bf67f9505",
   "metadata": {},
   "outputs": [],
   "source": []
  }
 ],
 "metadata": {
  "kernelspec": {
   "display_name": "Python 3 (ipykernel)",
   "language": "python",
   "name": "python3"
  },
  "language_info": {
   "codemirror_mode": {
    "name": "ipython",
    "version": 3
   },
   "file_extension": ".py",
   "mimetype": "text/x-python",
   "name": "python",
   "nbconvert_exporter": "python",
   "pygments_lexer": "ipython3",
   "version": "3.8.12"
  }
 },
 "nbformat": 4,
 "nbformat_minor": 5
}
